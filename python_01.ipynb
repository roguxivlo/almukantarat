{
 "cells": [
  {
   "cell_type": "markdown",
   "id": "538582bf",
   "metadata": {},
   "source": [
    "# Kurs Pythona (Kucoby, Obóz dla Średnich 2025)\n",
    "\n"
   ]
  },
  {
   "cell_type": "markdown",
   "id": "929af20a",
   "metadata": {},
   "source": [
    "## Pierwszy program w Pythonie - Funkcja `print`"
   ]
  },
  {
   "cell_type": "code",
   "execution_count": 27,
   "id": "44c0857b",
   "metadata": {},
   "outputs": [
    {
     "name": "stdout",
     "output_type": "stream",
     "text": [
      "Hello World!\n"
     ]
    }
   ],
   "source": [
    "print(\"Hello World!\")"
   ]
  },
  {
   "cell_type": "markdown",
   "id": "78326207",
   "metadata": {},
   "source": [
    "Wyjaśnienie: \n",
    "Instrukcja `print` służy do wypisywania rzeczy na ekran.\n",
    "\n",
    "Rzecz wypisywana, czyli *argument funkcji*, może być zapisana w cudzysłowach podwójnych lub pojedynczych:"
   ]
  },
  {
   "cell_type": "code",
   "execution_count": 28,
   "id": "171eddb0",
   "metadata": {},
   "outputs": [
    {
     "name": "stdout",
     "output_type": "stream",
     "text": [
      "Hello\n",
      "Hello\n"
     ]
    }
   ],
   "source": [
    "print(\"Hello\")\n",
    "\n",
    "print('Hello')"
   ]
  },
  {
   "cell_type": "markdown",
   "id": "387beaee",
   "metadata": {},
   "source": [
    "Każde użycie `print` powoduje wypisanie nowej linijki.\n",
    "\n",
    "Instrukcji `print` możemy użyć także z liczbami, na przykład:"
   ]
  },
  {
   "cell_type": "code",
   "execution_count": 29,
   "id": "b8d1ad69",
   "metadata": {},
   "outputs": [
    {
     "name": "stdout",
     "output_type": "stream",
     "text": [
      "177\n",
      "-177\n"
     ]
    }
   ],
   "source": [
    "print(177)\n",
    "\n",
    "print(-177)"
   ]
  },
  {
   "cell_type": "markdown",
   "id": "ab37a90e",
   "metadata": {},
   "source": [
    "### Komentarze\n",
    "\n",
    "Programując w Pythonie, możemy pisać tekst, który będzie ignorowany przez komputer.\n",
    "\n",
    "Taki tekst nazywamy *Komentarzem*\n",
    "\n",
    "Komentarze w Pythonie piszemy, dodając znak `#` na początku linijki z komentarzem:\n",
    "\n"
   ]
  },
  {
   "cell_type": "code",
   "execution_count": 30,
   "id": "a0090ca5",
   "metadata": {},
   "outputs": [
    {
     "name": "stdout",
     "output_type": "stream",
     "text": [
      "Ten kod się wykona\n"
     ]
    }
   ],
   "source": [
    "\n",
    "# To jest komentarz, ignorowany przez komputer\n",
    "\n",
    "print(\"Ten kod się wykona\")\n",
    "\n",
    "# Mogę tworzyć\n",
    "# Długie komentarze\n",
    "# Trzyliniowe"
   ]
  },
  {
   "cell_type": "markdown",
   "id": "d21b014a",
   "metadata": {},
   "source": [
    "## Działania na liczbach\n",
    "\n",
    "Każdy szanujący się język programowania pozwala na wykonywanie działań arytmetycznych na liczbach.\n",
    "\n",
    "Nieinaczej jest z Pythonem.\n",
    "\n",
    "W Pythonie liczby całkowite zapisujemy standardowo, na przykład `5, -13`, a liczby dziesiętne - z kropką (na przykład `3.14`)"
   ]
  },
  {
   "cell_type": "code",
   "execution_count": 31,
   "id": "43ccbd2b",
   "metadata": {},
   "outputs": [
    {
     "name": "stdout",
     "output_type": "stream",
     "text": [
      "5\n",
      "5.55\n",
      "-3.14\n"
     ]
    }
   ],
   "source": [
    "print(5)\n",
    "\n",
    "print(5.55)\n",
    "\n",
    "print(-3.14)"
   ]
  },
  {
   "cell_type": "markdown",
   "id": "f0c131de",
   "metadata": {},
   "source": [
    "Na liczbach możemy wykonywać następujące działania:\n",
    "\n",
    "dodawanie: `5 + 3.14`\n",
    "\n",
    "odejmowanie: `5 - 3.14`\n",
    "\n",
    "mnożenie: `5 * 3.14`\n",
    "\n",
    "dzielenie: `5 / 3.14`\n",
    "\n",
    "potęgowanie: `5 ** 2` oznacza `5` do potęgi `2`\n",
    "\n",
    "Gdy działanie wpiszemy jako argument funkcji `print`, dostaniemy wynik działania:\n"
   ]
  },
  {
   "cell_type": "code",
   "execution_count": 32,
   "id": "6a424e24",
   "metadata": {},
   "outputs": [
    {
     "name": "stdout",
     "output_type": "stream",
     "text": [
      "8.14\n",
      "1.8599999999999999\n",
      "15.700000000000001\n",
      "1.592356687898089\n",
      "25\n"
     ]
    }
   ],
   "source": [
    "print(5 + 3.14)\n",
    "\n",
    "print(5 - 3.14)\n",
    "\n",
    "print(5 * 3.14)\n",
    "\n",
    "print(5 / 3.14)\n",
    "\n",
    "print(5 ** 2)"
   ]
  },
  {
   "cell_type": "markdown",
   "id": "691d9dd3",
   "metadata": {},
   "source": [
    "Zwróćcie uwagę, że wyniki mogą się *nieco* różnić od faktycznego wyniku.\n",
    "\n",
    "Obliczenia komputerowe na liczbach dziesiętnych zawsze obarczone są pewnym błędem, choć najczęściej jest on bardzo mały.\n",
    "\n",
    "Działania na liczbach całkowitych najczęściej pozbawione są tych przeszkód:"
   ]
  },
  {
   "cell_type": "code",
   "execution_count": 33,
   "id": "57a63804",
   "metadata": {},
   "outputs": [
    {
     "name": "stdout",
     "output_type": "stream",
     "text": [
      "186\n",
      "1570\n"
     ]
    }
   ],
   "source": [
    "print(500 - 314)\n",
    "print(5 * 314)"
   ]
  },
  {
   "cell_type": "markdown",
   "id": "811587e5",
   "metadata": {},
   "source": [
    "#### Zadanie 1.\n",
    "Wypisz używając funkcji `print`, nazwę swojego namiotu, oraz swój wiek (rocznikowo, czyli `2025 - Twoj_rok_urodzenia`)"
   ]
  },
  {
   "cell_type": "markdown",
   "id": "9bee7774",
   "metadata": {},
   "source": [
    "### Kolejność działań, nawiasy\n",
    "\n",
    "Python respektuje szkolną kolejność działań arytmetycznych:"
   ]
  },
  {
   "cell_type": "code",
   "execution_count": 36,
   "id": "dbf6bcc9",
   "metadata": {},
   "outputs": [
    {
     "name": "stdout",
     "output_type": "stream",
     "text": [
      "14\n",
      "14\n"
     ]
    }
   ],
   "source": [
    "# Mnożenie jest przed dodawaniem, wynik to 14\n",
    "print(2 + 4 * 3)\n",
    "\n",
    "# Możemy też to zaznaczyć dodając nawias:\n",
    "print(2 + (4 * 3))"
   ]
  },
  {
   "cell_type": "markdown",
   "id": "80230400",
   "metadata": {},
   "source": [
    "Python respektuje kolejnosc działań wprowadzaną przez nawiasy:"
   ]
  },
  {
   "cell_type": "code",
   "execution_count": 37,
   "id": "4b7f21ee",
   "metadata": {},
   "outputs": [
    {
     "name": "stdout",
     "output_type": "stream",
     "text": [
      "18\n"
     ]
    }
   ],
   "source": [
    "# Ten nawias nadaje wyższy priorytet dodawaniu:\n",
    "print((2 + 4) * 3)"
   ]
  },
  {
   "cell_type": "markdown",
   "id": "6659f2d3",
   "metadata": {},
   "source": [
    "## Zmienne w Pythonie\n",
    "\n",
    "W Pythonie można robić dużo więcej niż wypisywanie tekstu i obliczenia.\n",
    "\n",
    "Następnym krokiem jest poznanie *Zmiennych*.\n",
    "\n",
    "*Zmienna* to takie pudełko, które zawiera pewną wartość (np. liczbę). \n",
    "\n",
    "Do tego pudełka możemy zaglądać\n",
    "(czyli sprawdzać jaką *wartość* ma zmienna), oraz podmieniać zawartość (to znaczy zmieniać *wartość* zmiennej)\n",
    "\n",
    "Zobaczmy przykład:"
   ]
  },
  {
   "cell_type": "code",
   "execution_count": 39,
   "id": "b9d01c3d",
   "metadata": {},
   "outputs": [
    {
     "name": "stdout",
     "output_type": "stream",
     "text": [
      "44\n",
      "46\n"
     ]
    }
   ],
   "source": [
    "# Tworzymy zmienną o nazwie `x`:\n",
    "x = 44\n",
    "\n",
    "# Zaglądamy do pudełka: odczytujemy wartość `x`:\n",
    "print(x)\n",
    "\n",
    "# podmieniamy zawartość pudełka: zmienna x dostaje nową wartosć:\n",
    "x = 46\n",
    "\n",
    "print(x)"
   ]
  },
  {
   "cell_type": "markdown",
   "id": "0716e5df",
   "metadata": {},
   "source": [
    "Na zmiennych liczbowych możemy wykonywać te same działania co na liczbach!\n",
    "\n",
    "Po prostu wpisujemy nazwę zmiennej zamiast wartości liczbowej (jak na matematyce)"
   ]
  },
  {
   "cell_type": "code",
   "execution_count": 43,
   "id": "0bf126a8",
   "metadata": {},
   "outputs": [
    {
     "name": "stdout",
     "output_type": "stream",
     "text": [
      "193\n",
      "125\n",
      "Pole Kola o promieniu 1:\n",
      "3.14\n"
     ]
    }
   ],
   "source": [
    "y = 17\n",
    "x = 5\n",
    "z = 3\n",
    "\n",
    "\n",
    "# Wykona się działanie: 5 ** 3 + 4 * 17\n",
    "print(x ** z + 4 * y)\n",
    "\n",
    "# zmieniamy wartość zmiennej y\n",
    "y = 0\n",
    "# Zmieni się też wynik tego samego wyrażenia\n",
    "print(x ** z + 4 * y)\n",
    "\n",
    "# Możemy mieć zmienne o wartościach rzeczywistych:\n",
    "\n",
    "pi = 3.14\n",
    "r = 1\n",
    "\n",
    "print(\"Pole Kola o promieniu 1:\")\n",
    "print(pi * r * r)"
   ]
  },
  {
   "cell_type": "markdown",
   "id": "58e94317",
   "metadata": {},
   "source": [
    "### Napisy\n",
    "\n",
    "Zmienne mogą być nie tylko liczbami.\n",
    "\n",
    "Innym rodzajem zmiennych są *Napisy* (po angielsku *string* - pasek tekstu)\n",
    "\n",
    "Napisy piszemy w cudzysłowiach, pojedynczych lub podwójnych, używamy ich tak:"
   ]
  },
  {
   "cell_type": "code",
   "execution_count": null,
   "id": "9d9c5780",
   "metadata": {},
   "outputs": [
    {
     "name": "stdout",
     "output_type": "stream",
     "text": [
      "To jest napis:\n",
      "Ala ma kota\n"
     ]
    }
   ],
   "source": [
    "ala = \"Ala ma kota\"\n",
    "\n",
    "print(\"To jest napis:\")\n",
    "\n",
    "print(ala)"
   ]
  },
  {
   "cell_type": "markdown",
   "id": "3649c655",
   "metadata": {},
   "source": [
    "Napisy można dodawać, znak `+` oznacza doklejenie napisu na koniec:"
   ]
  },
  {
   "cell_type": "code",
   "execution_count": 46,
   "id": "85e47c13",
   "metadata": {},
   "outputs": [
    {
     "name": "stdout",
     "output_type": "stream",
     "text": [
      "Ala ma kota!\n"
     ]
    }
   ],
   "source": [
    "ala = \"Ala ma \"\n",
    "zwierze = \"kota!\"\n",
    "\n",
    "zdanie = ala + zwierze\n",
    "\n",
    "print(zdanie)"
   ]
  },
  {
   "cell_type": "markdown",
   "id": "9f5371f9",
   "metadata": {},
   "source": [
    "Napisy mogą być wieloliniowe: znak `\\n` oznacza przejście do następnej linii:   "
   ]
  },
  {
   "cell_type": "code",
   "execution_count": 48,
   "id": "7e2cde54",
   "metadata": {},
   "outputs": [
    {
     "name": "stdout",
     "output_type": "stream",
     "text": [
      "Ala\n",
      "ma kota!\n",
      "1\n",
      "2\n",
      "3\n",
      "4\n"
     ]
    }
   ],
   "source": [
    "print(\"Ala\" + \"\\n\" + \"ma kota!\")\n",
    "\n",
    "print(\"1\\n2\\n3\\n4\")"
   ]
  }
 ],
 "metadata": {
  "kernelspec": {
   "display_name": "Python 3",
   "language": "python",
   "name": "python3"
  },
  "language_info": {
   "codemirror_mode": {
    "name": "ipython",
    "version": 3
   },
   "file_extension": ".py",
   "mimetype": "text/x-python",
   "name": "python",
   "nbconvert_exporter": "python",
   "pygments_lexer": "ipython3",
   "version": "3.11.9"
  }
 },
 "nbformat": 4,
 "nbformat_minor": 5
}
