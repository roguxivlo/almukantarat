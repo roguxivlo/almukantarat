{
 "cells": [
  {
   "cell_type": "markdown",
   "id": "538582bf",
   "metadata": {},
   "source": [
    "# Kurs Pythona (Kucoby, Obóz dla Średnich 2025)\n",
    "\n"
   ]
  },
  {
   "cell_type": "markdown",
   "id": "929af20a",
   "metadata": {},
   "source": [
    "## Pierwszy program w Pythonie - Funkcja `print`"
   ]
  },
  {
   "cell_type": "code",
   "execution_count": 1,
   "id": "44c0857b",
   "metadata": {},
   "outputs": [
    {
     "name": "stdout",
     "output_type": "stream",
     "text": [
      "Hello World!\n"
     ]
    }
   ],
   "source": [
    "print(\"Hello World!\")"
   ]
  },
  {
   "cell_type": "markdown",
   "id": "78326207",
   "metadata": {},
   "source": [
    "Wyjaśnienie: \n",
    "Instrukcja `print` służy do wypisywania rzeczy na ekran.\n",
    "\n",
    "Rzecz wypisywana, czyli *argument funkcji*, może być zapisana w cudzysłowach podwójnych lub pojedynczych:"
   ]
  },
  {
   "cell_type": "code",
   "execution_count": 2,
   "id": "171eddb0",
   "metadata": {},
   "outputs": [
    {
     "name": "stdout",
     "output_type": "stream",
     "text": [
      "Hello\n",
      "Hello\n"
     ]
    }
   ],
   "source": [
    "print(\"Hello\")\n",
    "\n",
    "print('Hello')"
   ]
  },
  {
   "cell_type": "markdown",
   "id": "387beaee",
   "metadata": {},
   "source": [
    "Każde użycie `print` powoduje wypisanie nowej linijki.\n",
    "\n",
    "Instrukcji `print` możemy użyć także z liczbami, na przykład:"
   ]
  },
  {
   "cell_type": "code",
   "execution_count": 3,
   "id": "b8d1ad69",
   "metadata": {},
   "outputs": [
    {
     "name": "stdout",
     "output_type": "stream",
     "text": [
      "177\n",
      "-177\n"
     ]
    }
   ],
   "source": [
    "print(177)\n",
    "\n",
    "print(-177)"
   ]
  },
  {
   "cell_type": "markdown",
   "id": "ab37a90e",
   "metadata": {},
   "source": [
    "### Komentarze\n",
    "\n",
    "Programując w Pythonie, możemy pisać tekst, który będzie ignorowany przez komputer.\n",
    "\n",
    "Taki tekst nazywamy *Komentarzem*\n",
    "\n",
    "Komentarze w Pythonie piszemy, dodając znak `#` na początku linijki z komentarzem:\n",
    "\n"
   ]
  },
  {
   "cell_type": "code",
   "execution_count": 4,
   "id": "a0090ca5",
   "metadata": {},
   "outputs": [
    {
     "name": "stdout",
     "output_type": "stream",
     "text": [
      "Ten kod się wykona\n"
     ]
    }
   ],
   "source": [
    "\n",
    "# To jest komentarz, ignorowany przez komputer\n",
    "\n",
    "print(\"Ten kod się wykona\")\n",
    "\n",
    "# Mogę tworzyć\n",
    "# Długie komentarze\n",
    "# Trzyliniowe"
   ]
  },
  {
   "cell_type": "markdown",
   "id": "d21b014a",
   "metadata": {},
   "source": [
    "## Działania na liczbach\n",
    "\n",
    "Każdy szanujący się język programowania pozwala na wykonywanie działań arytmetycznych na liczbach.\n",
    "\n",
    "Nieinaczej jest z Pythonem.\n",
    "\n",
    "W Pythonie liczby całkowite zapisujemy standardowo, na przykład `5, -13`, a liczby dziesiętne - z kropką (na przykład `3.14`)"
   ]
  },
  {
   "cell_type": "code",
   "execution_count": 5,
   "id": "43ccbd2b",
   "metadata": {},
   "outputs": [
    {
     "name": "stdout",
     "output_type": "stream",
     "text": [
      "5\n",
      "5.55\n",
      "-3.14\n"
     ]
    }
   ],
   "source": [
    "print(5)\n",
    "\n",
    "print(5.55)\n",
    "\n",
    "print(-3.14)"
   ]
  },
  {
   "cell_type": "markdown",
   "id": "f0c131de",
   "metadata": {},
   "source": [
    "Na liczbach możemy wykonywać następujące działania:\n",
    "\n",
    "dodawanie: `5 + 3.14`\n",
    "\n",
    "odejmowanie: `5 - 3.14`\n",
    "\n",
    "mnożenie: `5 * 3.14`\n",
    "\n",
    "dzielenie: `5 / 3.14`\n",
    "\n",
    "potęgowanie: `5 ** 2` oznacza `5` do potęgi `2`\n",
    "\n",
    "obliczanie reszty z dzielenia: `5 % 2` oznacza resztę z dzielenia liczby `5` przez liczbę `2`\n",
    "\n",
    "Gdy działanie wpiszemy jako argument funkcji `print`, dostaniemy wynik działania:\n"
   ]
  },
  {
   "cell_type": "code",
   "execution_count": 2,
   "id": "6a424e24",
   "metadata": {},
   "outputs": [
    {
     "name": "stdout",
     "output_type": "stream",
     "text": [
      "8.14\n",
      "1.8599999999999999\n",
      "15.700000000000001\n",
      "1.592356687898089\n",
      "25\n",
      "1\n"
     ]
    }
   ],
   "source": [
    "print(5 + 3.14)\n",
    "\n",
    "print(5 - 3.14)\n",
    "\n",
    "print(5 * 3.14)\n",
    "\n",
    "print(5 / 3.14)\n",
    "\n",
    "print(5 ** 2)\n",
    "\n",
    "print(5 % 2)"
   ]
  },
  {
   "cell_type": "markdown",
   "id": "691d9dd3",
   "metadata": {},
   "source": [
    "Zwróćcie uwagę, że wyniki mogą się *nieco* różnić od faktycznego wyniku.\n",
    "\n",
    "Obliczenia komputerowe na liczbach dziesiętnych zawsze obarczone są pewnym błędem, choć najczęściej jest on bardzo mały.\n",
    "\n",
    "Działania na liczbach całkowitych najczęściej pozbawione są tych przeszkód:"
   ]
  },
  {
   "cell_type": "code",
   "execution_count": 7,
   "id": "57a63804",
   "metadata": {},
   "outputs": [
    {
     "name": "stdout",
     "output_type": "stream",
     "text": [
      "186\n",
      "1570\n"
     ]
    }
   ],
   "source": [
    "print(500 - 314)\n",
    "print(5 * 314)"
   ]
  },
  {
   "cell_type": "markdown",
   "id": "69ea628f",
   "metadata": {},
   "source": [
    "### Dzielenie całkowitoliczbowe\n",
    "Przyjrzyjmy się dokładnie dzieleniu:\n",
    "\n",
    "```\n",
    "print(5 / 2)\n",
    "```\n",
    "\n",
    "Wypisze się wynik prawdziwy, czyli 2.5 (liczba niecałkowita.)\n",
    "\n",
    "Jest jeszcze jedno dzielenie. Znaczek `//` oznacza *dzielenie całkowitoliczbowe*, które obcina prawdziwy wynik z części dziesiętnej.\n",
    "```\n",
    "print(5 // 2) # wypisze się 2\n",
    "print(6 // 2) # wypisze się 3\n",
    "```\n",
    "\n",
    "Spróbujcie!"
   ]
  },
  {
   "cell_type": "code",
   "execution_count": 13,
   "id": "5098e123",
   "metadata": {},
   "outputs": [
    {
     "name": "stdout",
     "output_type": "stream",
     "text": [
      "2.5\n",
      "2\n",
      "3\n"
     ]
    }
   ],
   "source": [
    "print(5 / 2) # wypisze się 2.5\n",
    "\n",
    "print(5 // 2) # wypisze się 2\n",
    "print(6 // 2) # wypisze się 3\n"
   ]
  },
  {
   "cell_type": "markdown",
   "id": "811587e5",
   "metadata": {},
   "source": [
    "#### Zadanie 1.\n",
    "Wypisz używając funkcji `print`, nazwę swojego namiotu, oraz swój wiek (rocznikowo, czyli `2025 - Twoj_rok_urodzenia`)"
   ]
  },
  {
   "cell_type": "markdown",
   "id": "9bee7774",
   "metadata": {},
   "source": [
    "### Kolejność działań, nawiasy\n",
    "\n",
    "Python respektuje szkolną kolejność działań arytmetycznych:"
   ]
  },
  {
   "cell_type": "code",
   "execution_count": 8,
   "id": "dbf6bcc9",
   "metadata": {},
   "outputs": [
    {
     "name": "stdout",
     "output_type": "stream",
     "text": [
      "14\n",
      "14\n"
     ]
    }
   ],
   "source": [
    "# Mnożenie jest przed dodawaniem, wynik to 14\n",
    "print(2 + 4 * 3)\n",
    "\n",
    "# Możemy też to zaznaczyć dodając nawias:\n",
    "print(2 + (4 * 3))"
   ]
  },
  {
   "cell_type": "markdown",
   "id": "80230400",
   "metadata": {},
   "source": [
    "Python respektuje kolejnosc działań wprowadzaną przez nawiasy:"
   ]
  },
  {
   "cell_type": "code",
   "execution_count": 9,
   "id": "4b7f21ee",
   "metadata": {},
   "outputs": [
    {
     "name": "stdout",
     "output_type": "stream",
     "text": [
      "18\n"
     ]
    }
   ],
   "source": [
    "# Ten nawias nadaje wyższy priorytet dodawaniu:\n",
    "print((2 + 4) * 3)"
   ]
  },
  {
   "cell_type": "markdown",
   "id": "6659f2d3",
   "metadata": {},
   "source": [
    "## Zmienne w Pythonie\n",
    "\n",
    "W Pythonie można robić dużo więcej niż wypisywanie tekstu i obliczenia.\n",
    "\n",
    "Następnym krokiem jest poznanie *Zmiennych*.\n",
    "\n",
    "*Zmienna* to takie pudełko, które zawiera pewną wartość (np. liczbę). \n",
    "\n",
    "Do tego pudełka możemy zaglądać\n",
    "(czyli sprawdzać jaką *wartość* ma zmienna), oraz podmieniać zawartość (to znaczy zmieniać *wartość* zmiennej)\n",
    "\n",
    "Zobaczmy przykład:"
   ]
  },
  {
   "cell_type": "code",
   "execution_count": 10,
   "id": "b9d01c3d",
   "metadata": {},
   "outputs": [
    {
     "name": "stdout",
     "output_type": "stream",
     "text": [
      "44\n",
      "46\n"
     ]
    }
   ],
   "source": [
    "# Tworzymy zmienną o nazwie `x`:\n",
    "x = 44\n",
    "\n",
    "# Zaglądamy do pudełka: odczytujemy wartość `x`:\n",
    "print(x)\n",
    "\n",
    "# podmieniamy zawartość pudełka: zmienna x dostaje nową wartosć:\n",
    "x = 46\n",
    "\n",
    "print(x)"
   ]
  },
  {
   "cell_type": "markdown",
   "id": "0716e5df",
   "metadata": {},
   "source": [
    "Na zmiennych liczbowych możemy wykonywać te same działania co na liczbach!\n",
    "\n",
    "Po prostu wpisujemy nazwę zmiennej zamiast wartości liczbowej (jak na matematyce)"
   ]
  },
  {
   "cell_type": "code",
   "execution_count": 11,
   "id": "0bf126a8",
   "metadata": {},
   "outputs": [
    {
     "name": "stdout",
     "output_type": "stream",
     "text": [
      "193\n",
      "125\n",
      "Pole Kola o promieniu 1:\n",
      "3.14\n"
     ]
    }
   ],
   "source": [
    "y = 17\n",
    "x = 5\n",
    "z = 3\n",
    "\n",
    "\n",
    "# Wykona się działanie: 5 ** 3 + 4 * 17\n",
    "print(x ** z + 4 * y)\n",
    "\n",
    "# zmieniamy wartość zmiennej y\n",
    "y = 0\n",
    "# Zmieni się też wynik tego samego wyrażenia\n",
    "print(x ** z + 4 * y)\n",
    "\n",
    "# Możemy mieć zmienne o wartościach rzeczywistych:\n",
    "\n",
    "pi = 3.14\n",
    "r = 1\n",
    "\n",
    "print(\"Pole Kola o promieniu 1:\")\n",
    "print(pi * r * r)"
   ]
  },
  {
   "cell_type": "markdown",
   "id": "58e94317",
   "metadata": {},
   "source": [
    "### Napisy\n",
    "\n",
    "Zmienne mogą być nie tylko liczbami.\n",
    "\n",
    "Innym rodzajem zmiennych są *Napisy* (po angielsku *string* - pasek tekstu)\n",
    "\n",
    "Napisy piszemy w cudzysłowiach, pojedynczych lub podwójnych, używamy ich tak:"
   ]
  },
  {
   "cell_type": "code",
   "execution_count": 12,
   "id": "9d9c5780",
   "metadata": {},
   "outputs": [
    {
     "name": "stdout",
     "output_type": "stream",
     "text": [
      "To jest napis:\n",
      "Ala ma kota\n"
     ]
    }
   ],
   "source": [
    "ala = \"Ala ma kota\"\n",
    "\n",
    "print(\"To jest napis:\")\n",
    "\n",
    "print(ala)"
   ]
  },
  {
   "cell_type": "markdown",
   "id": "3649c655",
   "metadata": {},
   "source": [
    "Napisy można dodawać, znak `+` oznacza doklejenie napisu na koniec:"
   ]
  },
  {
   "cell_type": "code",
   "execution_count": 13,
   "id": "85e47c13",
   "metadata": {},
   "outputs": [
    {
     "name": "stdout",
     "output_type": "stream",
     "text": [
      "Ala ma kota!\n"
     ]
    }
   ],
   "source": [
    "ala = \"Ala ma \"\n",
    "zwierze = \"kota!\"\n",
    "\n",
    "zdanie = ala + zwierze\n",
    "\n",
    "print(zdanie)"
   ]
  },
  {
   "cell_type": "markdown",
   "id": "9f5371f9",
   "metadata": {},
   "source": [
    "Napisy mogą być wieloliniowe: znak `\\n` oznacza przejście do następnej linii:   "
   ]
  },
  {
   "cell_type": "code",
   "execution_count": 14,
   "id": "7e2cde54",
   "metadata": {},
   "outputs": [
    {
     "name": "stdout",
     "output_type": "stream",
     "text": [
      "Ala\n",
      "ma kota!\n",
      "1\n",
      "2\n",
      "3\n",
      "4\n"
     ]
    }
   ],
   "source": [
    "print(\"Ala\" + \"\\n\" + \"ma kota!\")\n",
    "\n",
    "print(\"1\\n2\\n3\\n4\")"
   ]
  },
  {
   "cell_type": "markdown",
   "id": "f6b0eee3",
   "metadata": {},
   "source": [
    "### Zmienne logiczne\n",
    "\n",
    "Jest jeszcze jeden typ zmiennych w Pythonie. Są to tak zwane *zmienne logiczne*, które mogą przyjmować dwie wartości:\n",
    "`True` (prawda, często też po prostu `1`) oraz `False` (fałsz, często też po prostu `0`)\n",
    "\n",
    "Na zmiennych logicznych mamy dostępne specjalne operacje:\n",
    "\n",
    "`and` jest to logiczna koniunkcja;\n",
    "\n",
    "`or` jest to logiczna alternatywa;\n",
    "\n",
    "`not` jest to logiczna negacja;\n",
    "\n",
    "Poniżej są przykłady jak te wyrażenia działają:"
   ]
  },
  {
   "cell_type": "code",
   "execution_count": 15,
   "id": "d6d9662a",
   "metadata": {},
   "outputs": [
    {
     "name": "stdout",
     "output_type": "stream",
     "text": [
      "Logiczna koniunkcja: `and`\n",
      "False\n",
      "True\n",
      "False\n",
      "False\n",
      "\n",
      "Logiczna alternatywa: `or`\n",
      "True\n",
      "True\n",
      "False\n",
      "True\n",
      "\n",
      "Negacja: `not`:\n",
      "False\n",
      "True\n"
     ]
    }
   ],
   "source": [
    "# Koniunkcja: obie wartości muszą być True:\n",
    "print(\"Logiczna koniunkcja: `and`\")\n",
    "print(True and False) # Wypisze się: False\n",
    "print(True and True) # Wypisze się: True\n",
    "print(False and False) # Wypisze się: False\n",
    "print(False and True) # Wypisze się: False\n",
    "\n",
    "# Alternatywa: co najmniej jedna wartość ma być True:\n",
    "print(\"\\nLogiczna alternatywa: `or`\")\n",
    "print(True or True) # Wypisze się: True\n",
    "print(True or False) # Wypisze się: True \n",
    "print(False or False) # Wypisze się: False\n",
    "print(False or True) # Wypisze się: True\n",
    "\n",
    "# Negacja: Neguje wartość\n",
    "print(\"\\nNegacja: `not`:\")\n",
    "print(not True) # Wypisze się: False\n",
    "print(not False) # Wypisze się: True"
   ]
  },
  {
   "cell_type": "markdown",
   "id": "c0fa51fa",
   "metadata": {},
   "source": [
    "Operacje logiczne możemy również wykonywać na liczbach i napisach. wartość liczbowa `0` oznacza `False`, a każda inna oznacza `True`. Pusty napis `\"\"` oznacza `False`, a jakikolwiek inny oznacza `True`"
   ]
  },
  {
   "cell_type": "code",
   "execution_count": 16,
   "id": "409c9537",
   "metadata": {},
   "outputs": [
    {
     "name": "stdout",
     "output_type": "stream",
     "text": [
      "0\n",
      "2\n",
      "1\n",
      "\n",
      "Ala\n",
      "False\n",
      "True\n",
      "False\n"
     ]
    }
   ],
   "source": [
    "print(0 and 1)\n",
    "\n",
    "print(1 and 2)\n",
    "\n",
    "print (1 or 4)\n",
    "\n",
    "print(\"Ala\" and \"\") # Wypisuje się nic (pusta linia)!\n",
    "\n",
    "print(\"Ala\" or \"\") # wypisuje się Ala!\n",
    "\n",
    "print(not 5)\n",
    "\n",
    "print(not \"\")\n",
    "\n",
    "print(not \"Ala\")"
   ]
  },
  {
   "cell_type": "markdown",
   "id": "38f2d182",
   "metadata": {},
   "source": [
    "Istnieje jeszcze jeden przypadek działań na liczbach, w którym otrzymujemy wynik prawda / fałsz.\n",
    "\n",
    "Taki wynik otrzymamy *porównując* ze sobą dwie liczby. Możemy to robić np tak:"
   ]
  },
  {
   "cell_type": "code",
   "execution_count": 26,
   "id": "bae690b6",
   "metadata": {},
   "outputs": [
    {
     "name": "stdout",
     "output_type": "stream",
     "text": [
      "True\n",
      "False\n",
      "False\n"
     ]
    }
   ],
   "source": [
    "# Czy 5 jest większe od 3? Wynik True.\n",
    "print(5 > 3)\n",
    "\n",
    "# Czy 5 jest równe 3? Wynik False.\n",
    "print(5 == 3) # UWAGA: DWA ZNAKI =\n",
    "\n",
    "# Czy 5 jest mniejsze lub równe 3? Wynik False:\n",
    "print(5 <= 3)"
   ]
  },
  {
   "cell_type": "markdown",
   "id": "dcefab19",
   "metadata": {},
   "source": [
    "UWAGA\n",
    "\n",
    "Sprawdzenie, czy dwie liczby są równe zapisujemy używając DWÓCH ZNAKÓW RÓWNOŚCI: `==`"
   ]
  },
  {
   "cell_type": "markdown",
   "id": "21f4bd65",
   "metadata": {},
   "source": [
    "Poznane wyrażenia możemy łączyć na przeróżne sposoby, na przykład:\n",
    "\n",
    "Sprawdź czy suma dwóch zmiennych jest RÓŻNA od trzeciej zmiennej:\n",
    "\n",
    "`print(not (x + y == z))`"
   ]
  },
  {
   "cell_type": "markdown",
   "id": "52fe66d2",
   "metadata": {},
   "source": [
    "## Funkcja input()\n",
    "\n",
    "No dobrze, umiemy już wykonywać pewne obliczenia na różnych typach zmiennych w pythonie!\n",
    "\n",
    "Jednak znaczna większość programów w jakiś sposób przyjmuje dane wejściowe od użytkownika.\n",
    "\n",
    "W języku komputerowców, *input* oznacza dane wejściowe programu, a *output* to wszystko co program wypisuje.\n",
    "\n",
    "Aby wczytać dane od użytkownika, używamy funkcji `input()`. Wynikiem tej funkcji jest wartość wpisana przez użytkownika, którą my możemy zapisać do jakiejś zmiennej.\n",
    "\n",
    "Poniżej jest najprostszy przykład wykorzystania funckji `input()`"
   ]
  },
  {
   "cell_type": "code",
   "execution_count": null,
   "id": "d93543ce",
   "metadata": {},
   "outputs": [
    {
     "name": "stdout",
     "output_type": "stream",
     "text": [
      "Odczytano:\n",
      "nnnnnnn\n"
     ]
    }
   ],
   "source": [
    "dane = input(\"Uzytkowniku wpisz dane: \")\n",
    "\n",
    "print(\"Odczytano:\")\n",
    "print(dane)"
   ]
  },
  {
   "cell_type": "markdown",
   "id": "7f577ebd",
   "metadata": {},
   "source": [
    "Do funkcji `input()` jako argument można podać informację do wypisania użytkownikowi\n",
    "\n",
    "W ten sposób możemy sczytywać od użytkownika *napisy*\n",
    "\n",
    "#### Zadanie 2.\n",
    "Używając funkcji `print` oraz `input`, spytaj się użytkownika o imię i przywitaj się z nim.\n",
    "\n"
   ]
  },
  {
   "cell_type": "markdown",
   "id": "e2406aba",
   "metadata": {},
   "source": [
    "No dobrze, spróbujmy teraz pobrać od użytkownika jakąś liczbę, np. rok urodzenia i obliczyć wiek na tej podstawie.\n",
    "\n",
    "Poniższy kod niestety nie zadziała:"
   ]
  },
  {
   "cell_type": "code",
   "execution_count": 19,
   "id": "46ce3660",
   "metadata": {},
   "outputs": [
    {
     "ename": "TypeError",
     "evalue": "unsupported operand type(s) for -: 'int' and 'str'",
     "output_type": "error",
     "traceback": [
      "\u001b[1;31m---------------------------------------------------------------------------\u001b[0m",
      "\u001b[1;31mTypeError\u001b[0m                                 Traceback (most recent call last)",
      "Cell \u001b[1;32mIn[19], line 3\u001b[0m\n\u001b[0;32m      1\u001b[0m rok_urodzenia \u001b[38;5;241m=\u001b[39m \u001b[38;5;28minput\u001b[39m(\u001b[38;5;124m\"\u001b[39m\u001b[38;5;124mpodaj rok urodzenia: \u001b[39m\u001b[38;5;124m\"\u001b[39m)\n\u001b[1;32m----> 3\u001b[0m wiek \u001b[38;5;241m=\u001b[39m \u001b[38;5;241;43m2025\u001b[39;49m\u001b[43m \u001b[49m\u001b[38;5;241;43m-\u001b[39;49m\u001b[43m \u001b[49m\u001b[43mrok_urodzenia\u001b[49m\n\u001b[0;32m      5\u001b[0m \u001b[38;5;28mprint\u001b[39m(\u001b[38;5;124m\"\u001b[39m\u001b[38;5;124mTwoj wiek: \u001b[39m\u001b[38;5;124m\"\u001b[39m)\n\u001b[0;32m      6\u001b[0m \u001b[38;5;28mprint\u001b[39m(wiek)\n",
      "\u001b[1;31mTypeError\u001b[0m: unsupported operand type(s) for -: 'int' and 'str'"
     ]
    }
   ],
   "source": [
    "rok_urodzenia = input(\"podaj rok urodzenia: \")\n",
    "\n",
    "wiek = 2025 - rok_urodzenia\n",
    "\n",
    "print(\"Twoj wiek: \")\n",
    "print(wiek)\n"
   ]
  },
  {
   "cell_type": "markdown",
   "id": "4a182773",
   "metadata": {},
   "source": [
    "Co się dzieje?????\n",
    "\n",
    "Otóż okazuje się, że wynik funkcji `input()` zawsze domyślnie jest *napisem*. Tak naprawdę, odczytaliśmy od użytkownika napis `\"2006\"` zamiast liczby `2006`. Python nie potrafi odjąć od liczby napisu, i dlatego dostajemy błąd.\n",
    "\n",
    "Aby to naprawić, możemy *skonwertować* napis zwrócony przez `input()` na liczbę całkowitą (po angielsku to integer, a w skrócie *int*). Robimy to tak:"
   ]
  },
  {
   "cell_type": "code",
   "execution_count": 21,
   "id": "6f189494",
   "metadata": {},
   "outputs": [
    {
     "name": "stdout",
     "output_type": "stream",
     "text": [
      "Twoj wiek: \n",
      "23\n"
     ]
    }
   ],
   "source": [
    "rok_urodzenia_napis = input(\"podaj rok urodzenia: \")\n",
    "\n",
    "# tutaj konwertujemy napis na liczbe!\n",
    "rok_urodzenia_int = int(rok_urodzenia_napis)\n",
    "\n",
    "wiek = 2025 - rok_urodzenia_int\n",
    "\n",
    "print(\"Twoj wiek: \")\n",
    "print(wiek)"
   ]
  },
  {
   "cell_type": "markdown",
   "id": "df61b4e0",
   "metadata": {},
   "source": [
    "Można też krócej, o tak:"
   ]
  },
  {
   "cell_type": "code",
   "execution_count": null,
   "id": "994ba253",
   "metadata": {},
   "outputs": [
    {
     "name": "stdout",
     "output_type": "stream",
     "text": [
      "Twoj wiek: \n",
      "23\n"
     ]
    }
   ],
   "source": [
    "# Konwertujemy od razu przy wczytywaniu\n",
    "rok_urodzenia_int = int(input(\"podaj rok urodzenia: \"))\n",
    "\n",
    "wiek = 2025 - rok_urodzenia_int\n",
    "\n",
    "print(\"Twoj wiek: \")\n",
    "print(wiek)"
   ]
  },
  {
   "cell_type": "markdown",
   "id": "dfe17c09",
   "metadata": {},
   "source": [
    "W porządku, a jak wczytać więcej niż jedną liczbę?\n",
    "\n",
    "po prostu użyjemy funkcji `input()` wiele razy!"
   ]
  },
  {
   "cell_type": "code",
   "execution_count": 10,
   "id": "90d0515a",
   "metadata": {},
   "outputs": [
    {
     "name": "stdout",
     "output_type": "stream",
     "text": [
      "124\n"
     ]
    }
   ],
   "source": [
    "pierwsza = int(input())\n",
    "\n",
    "druga = int(input())\n",
    "\n",
    "print(pierwsza + druga)\n"
   ]
  },
  {
   "cell_type": "markdown",
   "id": "7b22ddcd",
   "metadata": {},
   "source": [
    "Czas na trochę zadań do przećwiczenia:\n",
    "\n",
    "#### Zadanie 3.\n",
    "Wczytaj od użytkownika liczbę całkowitą dodatnią i wypisz jej ostatnią cyfrę.\n",
    "\n",
    "#### Zadanie 4.\n",
    "Wczytaj wysokość i podstawę trójkąta i wypisz pole\n",
    "\n",
    "#### Zadanie 5.\n",
    "Wczytaj promień koła i wypisz pole, użyj `pi = 3.14`\n",
    "\n",
    "UWAGA W tym zadaniu możesz wczytać liczbę rzeczywistą zamiast całkowitej, używając konwersji\n",
    "na typ `float` zamiast `int`:\n",
    "```\n",
    "r = float(input())\n",
    "```\n",
    "\n",
    "#### Zadanie 6.\n",
    "Wczytaj liczbę i wypisz jej cyfrę dziesiątek (drugą cyfrę od prawej)\n",
    "\n",
    "#### Zadanie 7.\n",
    "Napisz program, który przelicza czas podany w sekundach na zapis uwzględniający godziny, minuty oraz\n",
    "sekundy.\n",
    "\n",
    "Wejście: Jedyny wiersz wejścia zawiera jedną liczbę całkowitą $t$ ($1 ≤ t ≤ 1 000 000$), oznaczającą czas wyrażony w sekundach.\n",
    "\n",
    "Wyjście: Twój program powinien wypisać czas $t$ w postaci $ggmmss$, gdzie $g$, $m$ i $s$ oznaczają odpowiednio liczbę godzin,\n",
    "minut i sekund. Innymi słowy, $g$ godzin, $m$ minut i $s$ sekund powinno łącznie dawać $t$ sekund.\n",
    "\n",
    "\n",
    "#### Zadanie 8.\n",
    "W tym zadaniu Twój program powinien wypisać, ile jest liczb całkowitych z przedziału od $a$ do $b$, podzielnych przez $k$.\n",
    "\n",
    "Wejście: Zawiera trzy liczby oddzielone spacjami: $a\\le b$ oraz $k$.\n",
    "Wyjście: Na wyjściu powinieneś wypisać jedną liczbę: ile jest liczb między $a$ i $b$ (włącznie) podzielnych przez $k$?\n",
    "\n",
    "Przykłady:\n",
    "\n",
    "Dla danych `3 10 2` wynik to `4`\n",
    "\n",
    "Dla danych `10 20 10` wynik to `2`"
   ]
  },
  {
   "cell_type": "markdown",
   "id": "6003d2de",
   "metadata": {},
   "source": [
    "## Instrukcja Warunkowa\n",
    "\n",
    "Umiemy już coś pobrać od użytkownika, a teraz nauczymy się jak w zależności od inputu robić różne rzeczy.\n",
    "\n",
    "Posłużą nam do tego *Instrukcje Warunkowe*.\n",
    "\n",
    "Instrukcja Warunkowa ma postać:\n",
    "\n",
    "```\n",
    "jeśli zachodzi jakiś warunek:\n",
    "    zrób to\n",
    "w przeciwnym przypadku:\n",
    "    zrób tamto\n",
    "```\n",
    "\n",
    "Dla przykładu:\n",
    "```\n",
    "jeśli liczba > 100:\n",
    "    wypisz \"DUŻA LICZBA!\"\n",
    "w przeciwnym przypadku:\n",
    "    wypisz \"mała liczba!\"\n",
    "```\n",
    "\n",
    "W Pythonie będzie to wyglądać tak:\n",
    "```\n",
    "if liczba > 100:\n",
    "    print(\"DUZA LICZBA\")\n",
    "else:\n",
    "    print(\"mala liczba\")\n",
    "```\n",
    "\n",
    "zwróć uwagę na wcięcia, one są obowiązkowe!\n",
    "Po słówkach if i else, kod powinien być wcięty o\n",
    "jeden `tab`\n",
    "\n",
    "Taki kod skończy się błędem (spróbuj!):\n",
    "```\n",
    "if liczba > 100:\n",
    "print(\"DUZA LICZBA\")\n",
    "else:\n",
    "print(\"mala liczba\")\n",
    "```\n",
    "\n",
    "Dodatkowo, obowiązkowe są dwukropki po warunku oraz po `else`.\n",
    "\n",
    "Taki kod nie zadziala:\n",
    "```\n",
    "if liczba > 100\n",
    "    print(\"DUZA LICZBA\")\n",
    "else\n",
    "    print(\"mala liczba\")\n",
    "```\n",
    "\n",
    "Zobaczmy przykłady:\n",
    "\n"
   ]
  },
  {
   "cell_type": "code",
   "execution_count": null,
   "id": "c96a4d8b",
   "metadata": {},
   "outputs": [
    {
     "name": "stdout",
     "output_type": "stream",
     "text": [
      "dodatnia\n"
     ]
    }
   ],
   "source": [
    "# Wczytaj liczbę i sprawdz czy jest ujemna czy dodatnia:\n",
    "\n",
    "liczba = int(input())\n",
    "\n",
    "if liczba < 0:\n",
    "    print(\"ujemna\")\n",
    "else:\n",
    "    print(\"dodatnia\")"
   ]
  },
  {
   "cell_type": "markdown",
   "id": "73b43b0b",
   "metadata": {},
   "source": [
    "Instrukcje warunkowe mozemy zagniezdzać, np tak:"
   ]
  },
  {
   "cell_type": "code",
   "execution_count": 15,
   "id": "178bf6cd",
   "metadata": {},
   "outputs": [
    {
     "name": "stdout",
     "output_type": "stream",
     "text": [
      "srednia\n"
     ]
    }
   ],
   "source": [
    "# Wczytaj liczbę i sprawdz czy jest mala (mniejsza niz 10), srednia (od 10 do 90) czy duza (powyzej 90)\n",
    "\n",
    "liczba = int(input())\n",
    "\n",
    "if liczba < 10:\n",
    "    print(\"mala\")\n",
    "else:\n",
    "    # tutaj sprawdzimy czy liczba jest srednia, czy duza:\n",
    "    if liczba <= 90:\n",
    "        print(\"srednia\") # UWAGA - kolejne obowiązkowe wcięcie!!\n",
    "    else:\n",
    "        print(\"duza\")"
   ]
  },
  {
   "cell_type": "markdown",
   "id": "46d8c84a",
   "metadata": {},
   "source": [
    "### Instrukcja Elif\n",
    "\n",
    "W ludzkim języku czasem mówimy:\n",
    "```\n",
    "Jeśli zachodzi warunek1\n",
    "    to zrób przysiad\n",
    "W przeciwnym przypadku, jeśli zachodzi warunek2\n",
    "    to zrób pompke\n",
    "W przeciwnym przypadku,\n",
    "    zrób fikołka\n",
    "```\n",
    "\n",
    "Czyli `przysiad` jest robiony gdy zachodzi warunek1 (warunek2 nas nie obchodzi)\n",
    "\n",
    "`pompka` jest robiona gdy *nie zachodzi* warunek1 oraz zachodzi warunek2\n",
    "\n",
    "`fikolek` wykonamy gdy nie zachodzi *żaden* z warunków.\n",
    "\n",
    "\n",
    "W Pythonie wyrazimy to tak:\n",
    "```\n",
    "if warunek1:\n",
    "    przysiad\n",
    "elif warunek2:\n",
    "    pompka\n",
    "else:\n",
    "    fikolek\n",
    "```\n",
    "\n",
    "Kluczowe jest słówko `elif`. Pamiętamy cały czas o dwukropkach i wcięciach."
   ]
  },
  {
   "cell_type": "markdown",
   "id": "923a38f0",
   "metadata": {},
   "source": [
    "Używając `elif`, mozemy napisać kod szukający małych, średnich i dużych liczb o tak:"
   ]
  },
  {
   "cell_type": "code",
   "execution_count": 19,
   "id": "80988c0b",
   "metadata": {},
   "outputs": [
    {
     "name": "stdout",
     "output_type": "stream",
     "text": [
      "duza\n"
     ]
    }
   ],
   "source": [
    "liczba = int(input())\n",
    "\n",
    "if liczba < 10:\n",
    "    print(\"mala\")\n",
    "elif liczba <= 90:\n",
    "    print(\"srednia\")\n",
    "else:\n",
    "    print(\"duza\")"
   ]
  },
  {
   "cell_type": "markdown",
   "id": "fc9cf08f",
   "metadata": {},
   "source": [
    "#### Zadanie 9.\n",
    "\n",
    "* Wczytaj dwie liczby, wypisz większą z nich\n",
    "* Wczytaj dwie liczby, wypisz mniejszą z nich\n",
    "\n",
    "#### Zadanie 10.\n",
    "\n",
    "Wczytaj dwie liczby całkowite i wypisz, do której ćwiartki układu współrzędnych należą (I, II, III albo IV ćwiartki).\n",
    "Jeśli leżą na osi, wypisz `OX` lub `OY`. Jeśli leżą na przecięciu osi, wypisz `00` (zero zero)\n",
    "\n"
   ]
  },
  {
   "cell_type": "markdown",
   "id": "dda8e940",
   "metadata": {},
   "source": [
    "## Pętla while\n",
    "\n",
    "Teraz poznamy sposób na powiedzenie programowi, żeby powtarzał te same operacje bez wypisywania ich wiele razy.\n",
    "\n",
    "Takie powtarzanie operacji nazywamy *pętlą*. Pętla ma z grubsza taką postać:\n",
    "\n",
    "```\n",
    "Dopóki zachodzi warunek:\n",
    "    zrób przysiad\n",
    "    zrób fikolka\n",
    "    zrób pompke\n",
    "```\n",
    "\n",
    "na przykład, jeśli chcemy zrobić 10 pompek, możemy to zapisać tak:"
   ]
  },
  {
   "cell_type": "code",
   "execution_count": 20,
   "id": "86cade1f",
   "metadata": {},
   "outputs": [
    {
     "name": "stdout",
     "output_type": "stream",
     "text": [
      "pompka\n",
      "pompka\n",
      "pompka\n",
      "pompka\n",
      "pompka\n",
      "pompka\n",
      "pompka\n",
      "pompka\n",
      "pompka\n",
      "pompka\n"
     ]
    }
   ],
   "source": [
    "\n",
    "licznik_pompek = 0\n",
    "\n",
    "while licznik_pompek < 10:\n",
    "    print(\"pompka\")\n",
    "    licznik_pompek = licznik_pompek + 1"
   ]
  },
  {
   "cell_type": "markdown",
   "id": "c33ffd5e",
   "metadata": {},
   "source": [
    "Zanalizujmy ten kod:\n",
    "\n",
    "* `licznik_pompek` to jest *zmienna sterująca* pętlą. Jej wartość decyduje o tym czy pętla wykonuje się dalej.\n",
    "\n",
    "\n",
    "* *Ciało pętli* to kod wewnątrz pętli (odpowiednio wcięty, tak jak przy ifach!!)\n",
    "```\n",
    "print(\"pompka\")\n",
    "licznik_pompek = licznik_pompek + 1\n",
    "```\n",
    "\n",
    "Ten kod wykonuje się za każdym obrotem pętli (inaczej, za każdą *iteracją*). Wykonywana jest jakaś akcja, a zmienna sterująca jest aktualizowana."
   ]
  },
  {
   "cell_type": "markdown",
   "id": "38ec807a",
   "metadata": {},
   "source": [
    "#### Zadanie 11.\n",
    "Wczytaj liczbę i wypisz, ile cyfr ma."
   ]
  },
  {
   "cell_type": "markdown",
   "id": "f6784b84",
   "metadata": {},
   "source": [
    "## Listy\n",
    "\n",
    "Na końcu tego mini-kursu poznamy sposób na trzymanie *kolekcji* rzeczy w Pythonie.\n",
    "\n",
    "Powiedzmy, że chcemy mieć aplikację do robienia listy na zakupy.\n",
    "\n",
    "Każdy produkt musimy jakoś zapisać, ale nie wiemy ile produktów ktoś będzie chciał kupić.\n",
    "\n",
    "Tak naprawdę, musimy przygotować się na każdą rozsądną liczbę produktów.\n",
    "\n",
    "Idealnie byłoby mieć jakąś *LISTĘ* zmiennych, do której możemy dodawać produkty w miarę potrzeb.\n",
    "\n",
    "Python ma właśnie coś takiego!  "
   ]
  },
  {
   "cell_type": "code",
   "execution_count": null,
   "id": "9294bc5b",
   "metadata": {},
   "outputs": [
    {
     "name": "stdout",
     "output_type": "stream",
     "text": [
      "['banan', 'szyszka', 'obrotowa mapka nieba']\n"
     ]
    }
   ],
   "source": [
    "lista_zakupow = [\"banan\", \"szyszka\", \"obrotowa mapka nieba\"]\n",
    "\n",
    "print(lista_zakupow)"
   ]
  },
  {
   "cell_type": "markdown",
   "id": "422a4163",
   "metadata": {},
   "source": [
    "Cóż to się stało? Stworzyliśmy właśnie *zmienną* `lista_zakupow`\n",
    "\n",
    "Ta zmienna jest nowego typu: `list`:"
   ]
  },
  {
   "cell_type": "code",
   "execution_count": 24,
   "id": "e577989c",
   "metadata": {},
   "outputs": [
    {
     "data": {
      "text/plain": [
       "list"
      ]
     },
     "execution_count": 24,
     "metadata": {},
     "output_type": "execute_result"
    }
   ],
   "source": [
    "type(lista_zakupow)"
   ]
  },
  {
   "cell_type": "markdown",
   "id": "d498a783",
   "metadata": {},
   "source": [
    "funkcja `type` daje nam typ danej zmiennej. Poeksperymentujcie:\n",
    "\n",
    "```\n",
    "Ala = \"Ala\"\n",
    "bela = 11\n",
    "print(type(Ala))\n",
    "print(type(bela))\n",
    "```"
   ]
  },
  {
   "cell_type": "markdown",
   "id": "c9fc2f65",
   "metadata": {},
   "source": [
    "Elementami listy mogą być jakiekolwiek rzeczy. Nie muszą być nawet tego samego typu:"
   ]
  },
  {
   "cell_type": "code",
   "execution_count": 29,
   "id": "f91885b3",
   "metadata": {},
   "outputs": [
    {
     "name": "stdout",
     "output_type": "stream",
     "text": [
      "['Ala', 'Ala', 123, 'bebebe', 'ababababa kotek']\n"
     ]
    }
   ],
   "source": [
    "Ala = \"Ala\"\n",
    "bela = 11\n",
    "\n",
    "cela = \"ababababa\"\n",
    "\n",
    "moja_lista = [Ala, Ala, 123, \"bebebe\", cela + \" kotek\"]\n",
    "\n",
    "# Ćwiczenie: co się wypisze?\n",
    "print(moja_lista)"
   ]
  },
  {
   "cell_type": "markdown",
   "id": "da04372e",
   "metadata": {},
   "source": [
    "Nauczmy się podstawowych operacji z listami.\n",
    "\n",
    "### Dlugosc listy\n",
    "Po pierwsze, warto móc poznać długość danej listy, czyli liczbę jej elementów.\n",
    "\n",
    "Robimy to używając funkcji `len()`:"
   ]
  },
  {
   "cell_type": "code",
   "execution_count": 30,
   "id": "591588cf",
   "metadata": {},
   "outputs": [
    {
     "name": "stdout",
     "output_type": "stream",
     "text": [
      "5\n"
     ]
    }
   ],
   "source": [
    "Ala = \"Ala\"\n",
    "bela = 11\n",
    "\n",
    "cela = \"ababababa\"\n",
    "\n",
    "moja_lista = [Ala, Ala, 123, \"bebebe\", cela + \" kotek\"]\n",
    "\n",
    "# Ćwiczenie: co się wypisze??\n",
    "print(len(moja_lista))"
   ]
  },
  {
   "cell_type": "markdown",
   "id": "15255b0e",
   "metadata": {},
   "source": [
    "### Indeksowanie listy\n",
    "\n",
    "A jak odczytać konkretny element listy?\n",
    "\n",
    "Możemy dostać się do elementu listy używając jego *indeksu*, czyli pozycji na liście.\n",
    "\n",
    "Indeks wpisujemy obok nazwy listy w kwadratowych nawiasach, na przykład `moja_lista[1]`\n",
    "\n",
    "BARDZO WAŻNA UWAGA:\n",
    "\n",
    "POZYCJE NUMERUJEMY OD ZERA\n",
    "\n",
    "PIERWSZY ELEMENT MA INDEKS 0\n",
    "\n",
    "na przykład:"
   ]
  },
  {
   "cell_type": "code",
   "execution_count": 31,
   "id": "d1c894d7",
   "metadata": {},
   "outputs": [
    {
     "name": "stdout",
     "output_type": "stream",
     "text": [
      "Ala\n",
      "123\n",
      "ababababa kotek\n"
     ]
    }
   ],
   "source": [
    "Ala = \"Ala\"\n",
    "bela = 11\n",
    "\n",
    "cela = \"ababababa\"\n",
    "\n",
    "moja_lista = [Ala, Ala, 123, \"bebebe\", cela + \" kotek\"]\n",
    "\n",
    "# Ćwiczenie: co się wypisze??\n",
    "print(moja_lista[0])\n",
    "print(moja_lista[2])\n",
    "print(moja_lista[4])"
   ]
  },
  {
   "cell_type": "markdown",
   "id": "60e52f7b",
   "metadata": {},
   "source": [
    "Z listami trzeba ostrożnie: Musimy uważać żeby nie wyjść poza zakres listy.\n",
    "\n",
    "Python nakrzyczy na nas gdy zdarzy nam się użyć indeksu który nie należy do listy:"
   ]
  },
  {
   "cell_type": "code",
   "execution_count": 34,
   "id": "8cf7c53e",
   "metadata": {},
   "outputs": [
    {
     "ename": "IndexError",
     "evalue": "list index out of range",
     "output_type": "error",
     "traceback": [
      "\u001b[1;31m---------------------------------------------------------------------------\u001b[0m",
      "\u001b[1;31mIndexError\u001b[0m                                Traceback (most recent call last)",
      "Cell \u001b[1;32mIn[34], line 5\u001b[0m\n\u001b[0;32m      1\u001b[0m moja_lista \u001b[38;5;241m=\u001b[39m [\u001b[38;5;241m1\u001b[39m,\u001b[38;5;241m2\u001b[39m,\u001b[38;5;241m3\u001b[39m,\u001b[38;5;241m4\u001b[39m,\u001b[38;5;241m5\u001b[39m]\n\u001b[0;32m      3\u001b[0m \u001b[38;5;66;03m# Lista ma 5 elementów, więc maksymalny indeks to 4\u001b[39;00m\n\u001b[0;32m      4\u001b[0m \u001b[38;5;66;03m# indeks 100 jest już poza listą i ten program nie zadziala\u001b[39;00m\n\u001b[1;32m----> 5\u001b[0m \u001b[38;5;28mprint\u001b[39m(\u001b[43mmoja_lista\u001b[49m\u001b[43m[\u001b[49m\u001b[38;5;241;43m100\u001b[39;49m\u001b[43m]\u001b[49m)\n",
      "\u001b[1;31mIndexError\u001b[0m: list index out of range"
     ]
    }
   ],
   "source": [
    "moja_lista = [1,2,3,4,5]\n",
    "\n",
    "# Lista ma 5 elementów, więc maksymalny indeks to 4\n",
    "# indeks 100 jest już poza listą i ten program nie zadziala\n",
    "print(moja_lista[100])"
   ]
  },
  {
   "cell_type": "markdown",
   "id": "26a8dd94",
   "metadata": {},
   "source": [
    "#### Sztuczka: Indeksowanie \"od tyłu\"\n",
    "\n",
    "Python pozwala w sprytny sposób dostać się do ostatniego elementu.\n",
    "\n",
    "Indeks `-1` oznacza *ostatni element* tablicy. Po prostu założenie jest takie, że\n",
    "jeśli do ostatniego indeksu dodamy `1`, to zapętlamy się do początku czyli pierwszego elementu.\n",
    "\n",
    "Inaczej mówiąc, odjęcie `1` od indeksu oznacza przesunięcie w lewo, a dodanie `1` oznacza przesunięcie w prawo\n",
    "\n",
    "Dodatkowo, jeśli jesteśmy na końcu i chcemy iść w prawo, to się zapętlamy na początek.\n",
    "\n",
    "#### Ćwiczenie:\n",
    "\n",
    "W takim razie, indeks `-2` oznacza który element listy?\n",
    "Sprawdź używając kodu:"
   ]
  },
  {
   "cell_type": "code",
   "execution_count": 35,
   "id": "d5e7241f",
   "metadata": {},
   "outputs": [
    {
     "name": "stdout",
     "output_type": "stream",
     "text": [
      "4\n"
     ]
    }
   ],
   "source": [
    "moja_lista = [1,2,3,4,5]\n",
    "\n",
    "print(moja_lista[-2])"
   ]
  },
  {
   "cell_type": "markdown",
   "id": "d7479b40",
   "metadata": {},
   "source": [
    "### Operacje na listach\n",
    "\n",
    "Do listy możemy dodać element na koniec.\n",
    "\n",
    "Robimy to używając funkcji `append()`\n",
    "\n",
    "przykład:"
   ]
  },
  {
   "cell_type": "code",
   "execution_count": 36,
   "id": "863d895b",
   "metadata": {},
   "outputs": [
    {
     "name": "stdout",
     "output_type": "stream",
     "text": [
      "[1, 1, 1, 123]\n"
     ]
    }
   ],
   "source": [
    "lista = [1,1,1]\n",
    "\n",
    "lista.append(123)\n",
    "\n",
    "print(lista)"
   ]
  },
  {
   "cell_type": "markdown",
   "id": "34f67200",
   "metadata": {},
   "source": [
    "Możemy dodać listę do drugiej listy, tak jak z napisami:"
   ]
  },
  {
   "cell_type": "code",
   "execution_count": 39,
   "id": "a1143a6b",
   "metadata": {},
   "outputs": [
    {
     "name": "stdout",
     "output_type": "stream",
     "text": [
      "[1, 2, 2, 'a', 's', 'd']\n"
     ]
    }
   ],
   "source": [
    "lista1 = [1,2,2]\n",
    "lista2 = ['a','s','d']\n",
    "\n",
    "suma = lista1 + lista2\n",
    "\n",
    "print(suma)"
   ]
  },
  {
   "cell_type": "markdown",
   "id": "e4c30cfd",
   "metadata": {},
   "source": [
    "### Napisy jako listy\n",
    "\n",
    "Napis to też taka lista. Jest to *lista literek* (po angielsku character, *char*).\n",
    "\n",
    "W związku z tym, możemy odczytywać długości napisów używając `len()` a także \n",
    "zaglądać do poszczególnych literek używając nawiasów `[]`.\n",
    "\n",
    "Przykłady:"
   ]
  },
  {
   "cell_type": "code",
   "execution_count": 45,
   "id": "86319d65",
   "metadata": {},
   "outputs": [
    {
     "name": "stdout",
     "output_type": "stream",
     "text": [
      "15\n",
      "Ala ma kotaaaaa i psa.\n",
      "a\n",
      "a\n"
     ]
    }
   ],
   "source": [
    "slowo = \"Ala ma kotaaaaa\"\n",
    "\n",
    "print(len(slowo))\n",
    "\n",
    "slowo = slowo + \" i psa.\"\n",
    "\n",
    "print(slowo)\n",
    "\n",
    "print(slowo[5])\n",
    "\n",
    "print(slowo[-2])"
   ]
  },
  {
   "cell_type": "markdown",
   "id": "a85bbdb9",
   "metadata": {},
   "source": [
    "#### Zadanie 12\n",
    "\n",
    "Wczytaj `n` od użytkownika. Następnie wczytaj listę `n` liczb. Znajdź:\n",
    "\n",
    "* Maksimum w tej liście\n",
    "* Minimum w tej liście\n",
    "* Sumę wszystkich liczb\n",
    "* Średnią arytmetyczną wszystkich liczb"
   ]
  },
  {
   "cell_type": "markdown",
   "id": "df179891",
   "metadata": {},
   "source": [
    "### listy wielowymiarowe\n",
    "\n",
    "Możemy mieć listę list, wtedy stworzy się taka \"plansza\".\n",
    "\n",
    "Wtedy pierwszy indeks w nawiasach oznacza numer listy, a drugi - numer elementu w tej liście.\n",
    "\n",
    "zobaczmy przykład:"
   ]
  },
  {
   "cell_type": "code",
   "execution_count": 48,
   "id": "17b409ec",
   "metadata": {},
   "outputs": [
    {
     "name": "stdout",
     "output_type": "stream",
     "text": [
      "8\n"
     ]
    }
   ],
   "source": [
    "plansza = [[1,2,3], [4,5,6], [7,8,9]]\n",
    "\n",
    "\n",
    "# Trzecia lista (indeks = 2), oraz drugi element tej listy (indeks = 1)\n",
    "print(plansza[2][1])"
   ]
  },
  {
   "cell_type": "markdown",
   "id": "496d26e3",
   "metadata": {},
   "source": [
    "## Kółko i krzyżyk\n",
    "Na pożegnanie, napiszemy sobie grę w kółko i krzyżyk.\n",
    "\n",
    "Gra będzie dla dwóch użytkowników, którzy na zmianę wykonują ruchy na planszy.\n",
    "\n",
    "Gra będzie wykrywać moment wygranej gracza.\n",
    "\n",
    "### Plansza\n",
    "plansza będzie tablicą literek (jednoelementowych napisów).\n",
    "Niezaznaczone pole zaznaczymy znakiem `.`, kółko to będzie `o`, a krzyżyk to `x`."
   ]
  },
  {
   "cell_type": "code",
   "execution_count": 51,
   "id": "8031dd21",
   "metadata": {},
   "outputs": [
    {
     "name": "stdout",
     "output_type": "stream",
     "text": [
      "['.', '.', '.']\n",
      "['.', '.', '.']\n",
      "['.', '.', '.']\n"
     ]
    }
   ],
   "source": [
    "plansza = [['.', '.', '.'], ['.', '.', '.'], ['.', '.', '.']]\n",
    "\n",
    "\n",
    "# Tak będziemy wypisywać planszę:\n",
    "print(plansza[0])\n",
    "print(plansza[1])\n",
    "print(plansza[2])"
   ]
  },
  {
   "cell_type": "markdown",
   "id": "6facd16e",
   "metadata": {},
   "source": [
    "Teraz będziemy działać w pętli. Zmienną sterującą będzie `czy_koniec`, która stanie się `True` w momencie wygranej, a na początku jest `False`"
   ]
  },
  {
   "cell_type": "code",
   "execution_count": null,
   "id": "f1c38141",
   "metadata": {},
   "outputs": [
    {
     "name": "stdout",
     "output_type": "stream",
     "text": [
      "Tura\n",
      "1\n",
      "['o', '.', '.']\n",
      "['.', '.', '.']\n",
      "['.', '.', '.']\n",
      "Tura\n",
      "2\n",
      "['o', 'x', '.']\n",
      "['.', '.', '.']\n",
      "['.', '.', '.']\n",
      "Tura\n",
      "3\n",
      "['o', 'x', 'o']\n",
      "['.', '.', '.']\n",
      "['.', '.', '.']\n",
      "Tura\n",
      "4\n",
      "['o', 'x', 'o']\n",
      "['.', 'x', '.']\n",
      "['.', '.', '.']\n",
      "Tura\n",
      "5\n",
      "Zagraj jeszcze raz na wolne pole!\n",
      "Tura\n",
      "5\n",
      "Zagraj jeszcze raz na wolne pole!\n",
      "Tura\n",
      "5\n",
      "['o', 'x', 'o']\n",
      "['.', 'x', '.']\n",
      "['o', '.', '.']\n",
      "Tura\n",
      "6\n",
      "['o', 'x', 'o']\n",
      "['.', 'x', '.']\n",
      "['o', 'x', '.']\n",
      "Wygralo\n",
      "x\n"
     ]
    }
   ],
   "source": [
    "czy_koniec = False\n",
    "\n",
    "licznik_tury = 0\n",
    "\n",
    "plansza = [['.', '.', '.'], ['.', '.', '.'], ['.', '.', '.']]\n",
    "\n",
    "# Dopóki czy_koniec jest False,\n",
    "# czyli dopóki not czy_koniec jest True.\n",
    "while True:\n",
    "    # Tutaj gracze będą wykonywać ruchy:\n",
    "    licznik_tury = licznik_tury + 1\n",
    "    print(\"Tura\")\n",
    "    print(licznik_tury)\n",
    "\n",
    "    znak = ''\n",
    "    # Jeśli mamy nieparzystą turę, to jest kółko.\n",
    "    # W przeciwnym przypadku - krzyżyk\n",
    "    if licznik_tury % 2:\n",
    "        znak = 'o'\n",
    "    else:\n",
    "        znak = 'x'\n",
    "\n",
    "    # wczytaj ruch od gracza. To będą dwie liczby: wiersz i kolumna\n",
    "    # oba numerowane od zera:\n",
    "    wiersz = int(input(\"Podaj wiersz od 0 do 2\"))\n",
    "    kolumna = int(input(\"Podaj kolumne od 0 do 2\"))\n",
    "\n",
    "    # Sprawdzmy czy to pole jest wolne\n",
    "    if plansza[wiersz][kolumna] != '.':\n",
    "        print(\"Zagraj jeszcze raz na wolne pole!\")\n",
    "        licznik_tury = licznik_tury - 1\n",
    "        # Kontynuuj pętle\n",
    "        continue\n",
    "    \n",
    "    plansza[wiersz][kolumna] = znak\n",
    "\n",
    "    # Wypisz nową planszę:\n",
    "    print(plansza[0])\n",
    "    print(plansza[1])\n",
    "    print(plansza[2])\n",
    "\n",
    "    # Teraz sprawdzamy czy ktoś wygrał:\n",
    "    # Najpierw sprawdzamy wiersze:\n",
    "    ###### WPISZ SWOJ KOD TUTAJ\n",
    "\n",
    "    # Teraz sprawdzamy kolumny:\n",
    "    ###### WPISZ SWOJ KOD TUTAJ\n",
    "\n",
    "    # Teraz sprawdzamy przekątne:\n",
    "    # To już jest zrobione dla Was:\n",
    "    if plansza[0][0] == znak and plansza[1][1] == znak and plansza[2][2] == znak:\n",
    "        print(\"Wygralo\")\n",
    "        print(znak)\n",
    "        break\n",
    "    if plansza[0][2] == znak and plansza[1][1] == znak and plansza[2][0] == znak:\n",
    "        print(\"Wygralo\")\n",
    "        print(znak)\n",
    "        break\n",
    "\n",
    "\n",
    "    # Na koniec - trzeba sprawdzić remis.\n",
    "    # Remis jest gdy wykonano 9 ruchów i nikt nie wygrał\n",
    "    if licznik_tury == 9:\n",
    "        print(\"Remis!\")\n",
    "        break\n"
   ]
  }
 ],
 "metadata": {
  "kernelspec": {
   "display_name": "Python 3",
   "language": "python",
   "name": "python3"
  },
  "language_info": {
   "codemirror_mode": {
    "name": "ipython",
    "version": 3
   },
   "file_extension": ".py",
   "mimetype": "text/x-python",
   "name": "python",
   "nbconvert_exporter": "python",
   "pygments_lexer": "ipython3",
   "version": "3.11.9"
  }
 },
 "nbformat": 4,
 "nbformat_minor": 5
}
