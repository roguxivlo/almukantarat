{
 "cells": [
  {
   "cell_type": "markdown",
   "id": "538582bf",
   "metadata": {},
   "source": [
    "# Kurs Pythona (Kucoby, Obóz dla Średnich 2025)\n",
    "\n"
   ]
  },
  {
   "cell_type": "markdown",
   "id": "929af20a",
   "metadata": {},
   "source": [
    "## Pierwszy program w Pythonie - Funkcja `print`"
   ]
  },
  {
   "cell_type": "code",
   "execution_count": null,
   "id": "44c0857b",
   "metadata": {},
   "outputs": [],
   "source": [
    "print(\"Hello World!\")"
   ]
  },
  {
   "cell_type": "markdown",
   "id": "78326207",
   "metadata": {},
   "source": [
    "Wyjaśnienie: \n",
    "Instrukcja `print` służy do wypisywania rzeczy na ekran.\n",
    "\n",
    "Rzecz wypisywana, czyli *argument funkcji*, może być zapisana w cudzysłowach podwójnych lub pojedynczych:"
   ]
  },
  {
   "cell_type": "code",
   "execution_count": null,
   "id": "171eddb0",
   "metadata": {},
   "outputs": [],
   "source": [
    "print(\"Hello\")\n",
    "\n",
    "print('Hello')"
   ]
  },
  {
   "cell_type": "markdown",
   "id": "387beaee",
   "metadata": {},
   "source": [
    "Każde użycie `print` powoduje wypisanie nowej linijki.\n",
    "\n",
    "Instrukcji `print` możemy użyć także z liczbami, na przykład:"
   ]
  },
  {
   "cell_type": "code",
   "execution_count": null,
   "id": "b8d1ad69",
   "metadata": {},
   "outputs": [],
   "source": [
    "print(177)\n",
    "\n",
    "print(-177)"
   ]
  },
  {
   "cell_type": "markdown",
   "id": "ab37a90e",
   "metadata": {},
   "source": [
    "### Komentarze\n",
    "\n",
    "Programując w Pythonie, możemy pisać tekst, który będzie ignorowany przez komputer.\n",
    "\n",
    "Taki tekst nazywamy *Komentarzem*\n",
    "\n",
    "Komentarze w Pythonie piszemy, dodając znak `#` na początku linijki z komentarzem:\n",
    "\n"
   ]
  },
  {
   "cell_type": "code",
   "execution_count": null,
   "id": "a0090ca5",
   "metadata": {},
   "outputs": [],
   "source": [
    "\n",
    "# To jest komentarz, ignorowany przez komputer\n",
    "\n",
    "print(\"Ten kod się wykona\")\n",
    "\n",
    "# Mogę tworzyć\n",
    "# Długie komentarze\n",
    "# Trzyliniowe"
   ]
  },
  {
   "cell_type": "markdown",
   "id": "d21b014a",
   "metadata": {},
   "source": [
    "## Działania na liczbach\n",
    "\n",
    "Każdy szanujący się język programowania pozwala na wykonywanie działań arytmetycznych na liczbach.\n",
    "\n",
    "Nieinaczej jest z Pythonem.\n",
    "\n",
    "W Pythonie liczby całkowite zapisujemy standardowo, na przykład `5, -13`, a liczby dziesiętne - z kropką (na przykład `3.14`)"
   ]
  },
  {
   "cell_type": "code",
   "execution_count": null,
   "id": "43ccbd2b",
   "metadata": {},
   "outputs": [],
   "source": [
    "print(5)\n",
    "\n",
    "print(5.55)\n",
    "\n",
    "print(-3.14)"
   ]
  },
  {
   "cell_type": "markdown",
   "id": "f0c131de",
   "metadata": {},
   "source": [
    "Na liczbach możemy wykonywać następujące działania:\n",
    "\n",
    "dodawanie: `5 + 3.14`\n",
    "\n",
    "odejmowanie: `5 - 3.14`\n",
    "\n",
    "mnożenie: `5 * 3.14`\n",
    "\n",
    "dzielenie: `5 / 3.14`\n",
    "\n",
    "potęgowanie: `5 ** 2` oznacza `5` do potęgi `2`\n",
    "\n",
    "Gdy działanie wpiszemy jako argument funkcji `print`, dostaniemy wynik działania:\n"
   ]
  },
  {
   "cell_type": "code",
   "execution_count": null,
   "id": "6a424e24",
   "metadata": {},
   "outputs": [],
   "source": [
    "print(5 + 3.14)\n",
    "\n",
    "print(5 - 3.14)\n",
    "\n",
    "print(5 * 3.14)\n",
    "\n",
    "print(5 / 3.14)\n",
    "\n",
    "print(5 ** 2)"
   ]
  },
  {
   "cell_type": "markdown",
   "id": "691d9dd3",
   "metadata": {},
   "source": [
    "Zwróćcie uwagę, że wyniki mogą się *nieco* różnić od faktycznego wyniku.\n",
    "\n",
    "Obliczenia komputerowe na liczbach dziesiętnych zawsze obarczone są pewnym błędem, choć najczęściej jest on bardzo mały.\n",
    "\n",
    "Działania na liczbach całkowitych najczęściej pozbawione są tych przeszkód:"
   ]
  },
  {
   "cell_type": "code",
   "execution_count": null,
   "id": "57a63804",
   "metadata": {},
   "outputs": [],
   "source": [
    "print(500 - 314)\n",
    "print(5 * 314)"
   ]
  },
  {
   "cell_type": "markdown",
   "id": "811587e5",
   "metadata": {},
   "source": [
    "#### Zadanie 1.\n",
    "Wypisz używając funkcji `print`, nazwę swojego namiotu, oraz swój wiek (rocznikowo, czyli `2025 - Twoj_rok_urodzenia`)"
   ]
  },
  {
   "cell_type": "markdown",
   "id": "9bee7774",
   "metadata": {},
   "source": [
    "### Kolejność działań, nawiasy\n",
    "\n",
    "Python respektuje szkolną kolejność działań arytmetycznych:"
   ]
  },
  {
   "cell_type": "code",
   "execution_count": null,
   "id": "dbf6bcc9",
   "metadata": {},
   "outputs": [],
   "source": [
    "# Mnożenie jest przed dodawaniem, wynik to 14\n",
    "print(2 + 4 * 3)\n",
    "\n",
    "# Możemy też to zaznaczyć dodając nawias:\n",
    "print(2 + (4 * 3))"
   ]
  },
  {
   "cell_type": "markdown",
   "id": "80230400",
   "metadata": {},
   "source": [
    "Python respektuje kolejnosc działań wprowadzaną przez nawiasy:"
   ]
  },
  {
   "cell_type": "code",
   "execution_count": null,
   "id": "4b7f21ee",
   "metadata": {},
   "outputs": [],
   "source": [
    "# Ten nawias nadaje wyższy priorytet dodawaniu:\n",
    "print((2 + 4) * 3)"
   ]
  },
  {
   "cell_type": "markdown",
   "id": "6659f2d3",
   "metadata": {},
   "source": [
    "## Zmienne w Pythonie\n",
    "\n",
    "W Pythonie można robić dużo więcej niż wypisywanie tekstu i obliczenia.\n",
    "\n",
    "Następnym krokiem jest poznanie *Zmiennych*.\n",
    "\n",
    "*Zmienna* to takie pudełko, które zawiera pewną wartość (np. liczbę). \n",
    "\n",
    "Do tego pudełka możemy zaglądać\n",
    "(czyli sprawdzać jaką *wartość* ma zmienna), oraz podmieniać zawartość (to znaczy zmieniać *wartość* zmiennej)\n",
    "\n",
    "Zobaczmy przykład:"
   ]
  },
  {
   "cell_type": "code",
   "execution_count": null,
   "id": "b9d01c3d",
   "metadata": {},
   "outputs": [],
   "source": [
    "# Tworzymy zmienną o nazwie `x`:\n",
    "x = 44\n",
    "\n",
    "# Zaglądamy do pudełka: odczytujemy wartość `x`:\n",
    "print(x)\n",
    "\n",
    "# podmieniamy zawartość pudełka: zmienna x dostaje nową wartosć:\n",
    "x = 46\n",
    "\n",
    "print(x)"
   ]
  },
  {
   "cell_type": "markdown",
   "id": "0716e5df",
   "metadata": {},
   "source": [
    "Na zmiennych liczbowych możemy wykonywać te same działania co na liczbach!\n",
    "\n",
    "Po prostu wpisujemy nazwę zmiennej zamiast wartości liczbowej (jak na matematyce)"
   ]
  },
  {
   "cell_type": "code",
   "execution_count": null,
   "id": "0bf126a8",
   "metadata": {},
   "outputs": [],
   "source": [
    "y = 17\n",
    "x = 5\n",
    "z = 3\n",
    "\n",
    "\n",
    "# Wykona się działanie: 5 ** 3 + 4 * 17\n",
    "print(x ** z + 4 * y)\n",
    "\n",
    "# zmieniamy wartość zmiennej y\n",
    "y = 0\n",
    "# Zmieni się też wynik tego samego wyrażenia\n",
    "print(x ** z + 4 * y)\n",
    "\n",
    "# Możemy mieć zmienne o wartościach rzeczywistych:\n",
    "\n",
    "pi = 3.14\n",
    "r = 1\n",
    "\n",
    "print(\"Pole Kola o promieniu 1:\")\n",
    "print(pi * r * r)"
   ]
  },
  {
   "cell_type": "markdown",
   "id": "58e94317",
   "metadata": {},
   "source": [
    "### Napisy\n",
    "\n",
    "Zmienne mogą być nie tylko liczbami.\n",
    "\n",
    "Innym rodzajem zmiennych są *Napisy* (po angielsku *string* - pasek tekstu)\n",
    "\n",
    "Napisy piszemy w cudzysłowiach, pojedynczych lub podwójnych, używamy ich tak:"
   ]
  },
  {
   "cell_type": "code",
   "execution_count": null,
   "id": "9d9c5780",
   "metadata": {},
   "outputs": [],
   "source": [
    "ala = \"Ala ma kota\"\n",
    "\n",
    "print(\"To jest napis:\")\n",
    "\n",
    "print(ala)"
   ]
  },
  {
   "cell_type": "markdown",
   "id": "3649c655",
   "metadata": {},
   "source": [
    "Napisy można dodawać, znak `+` oznacza doklejenie napisu na koniec:"
   ]
  },
  {
   "cell_type": "code",
   "execution_count": null,
   "id": "85e47c13",
   "metadata": {},
   "outputs": [],
   "source": [
    "ala = \"Ala ma \"\n",
    "zwierze = \"kota!\"\n",
    "\n",
    "zdanie = ala + zwierze\n",
    "\n",
    "print(zdanie)"
   ]
  },
  {
   "cell_type": "markdown",
   "id": "9f5371f9",
   "metadata": {},
   "source": [
    "Napisy mogą być wieloliniowe: znak `\\n` oznacza przejście do następnej linii:   "
   ]
  },
  {
   "cell_type": "code",
   "execution_count": null,
   "id": "7e2cde54",
   "metadata": {},
   "outputs": [],
   "source": [
    "print(\"Ala\" + \"\\n\" + \"ma kota!\")\n",
    "\n",
    "print(\"1\\n2\\n3\\n4\")"
   ]
  },
  {
   "cell_type": "markdown",
   "id": "f6b0eee3",
   "metadata": {},
   "source": [
    "### Zmienne logiczne\n",
    "\n",
    "Jest jeszcze jeden typ zmiennych w Pythonie. Są to tak zwane *zmienne logiczne*, które mogą przyjmować dwie wartości:\n",
    "`True` (prawda, często też po prostu `1`) oraz `False` (fałsz, często też po prostu `0`)\n",
    "\n",
    "Na zmiennych logicznych mamy dostępne specjalne operacje:\n",
    "\n",
    "`and` jest to logiczna koniunkcja;\n",
    "\n",
    "`or` jest to logiczna alternatywa;\n",
    "\n",
    "`not` jest to logiczna negacja;\n",
    "\n",
    "Poniżej są przykłady jak te wyrażenia działają:"
   ]
  },
  {
   "cell_type": "code",
   "execution_count": 7,
   "id": "d6d9662a",
   "metadata": {},
   "outputs": [
    {
     "name": "stdout",
     "output_type": "stream",
     "text": [
      "Logiczna koniunkcja: `and`\n",
      "False\n",
      "True\n",
      "False\n",
      "False\n",
      "\n",
      "Logiczna alternatywa: `or`\n",
      "True\n",
      "True\n",
      "False\n",
      "True\n",
      "\n",
      "Negacja: `not`:\n",
      "False\n",
      "True\n"
     ]
    }
   ],
   "source": [
    "# Koniunkcja: obie wartości muszą być True:\n",
    "print(\"Logiczna koniunkcja: `and`\")\n",
    "print(True and False) # Wypisze się: False\n",
    "print(True and True) # Wypisze się: True\n",
    "print(False and False) # Wypisze się: False\n",
    "print(False and True) # Wypisze się: False\n",
    "\n",
    "# Alternatywa: co najmniej jedna wartość ma być True:\n",
    "print(\"\\nLogiczna alternatywa: `or`\")\n",
    "print(True or True) # Wypisze się: True\n",
    "print(True or False) # Wypisze się: True \n",
    "print(False or False) # Wypisze się: False\n",
    "print(False or True) # Wypisze się: True\n",
    "\n",
    "# Negacja: Neguje wartość\n",
    "print(\"\\nNegacja: `not`:\")\n",
    "print(not True) # Wypisze się: False\n",
    "print(not False) # Wypisze się: True"
   ]
  },
  {
   "cell_type": "markdown",
   "id": "c0fa51fa",
   "metadata": {},
   "source": [
    "Operacje logiczne możemy również wykonywać na liczbach i napisach. wartość liczbowa `0` oznacza `False`, a każda inna oznacza `True`. Pusty napis `\"\"` oznacza `False`, a jakikolwiek inny oznacza `True`"
   ]
  },
  {
   "cell_type": "code",
   "execution_count": 16,
   "id": "409c9537",
   "metadata": {},
   "outputs": [
    {
     "name": "stdout",
     "output_type": "stream",
     "text": [
      "0\n",
      "2\n",
      "1\n",
      "\n",
      "Ala\n",
      "False\n",
      "True\n",
      "False\n"
     ]
    }
   ],
   "source": [
    "print(0 and 1)\n",
    "\n",
    "print(1 and 2)\n",
    "\n",
    "print (1 or 4)\n",
    "\n",
    "print(\"Ala\" and \"\") # Wypisuje się nic!\n",
    "\n",
    "print(\"Ala\" or \"\") # wypisuje się Ala!\n",
    "\n",
    "print(not 5)\n",
    "\n",
    "print(not \"\")\n",
    "\n",
    "print(not \"Ala\")"
   ]
  }
 ],
 "metadata": {
  "kernelspec": {
   "display_name": "Python 3",
   "language": "python",
   "name": "python3"
  },
  "language_info": {
   "codemirror_mode": {
    "name": "ipython",
    "version": 3
   },
   "file_extension": ".py",
   "mimetype": "text/x-python",
   "name": "python",
   "nbconvert_exporter": "python",
   "pygments_lexer": "ipython3",
   "version": "3.11.9"
  }
 },
 "nbformat": 4,
 "nbformat_minor": 5
}
