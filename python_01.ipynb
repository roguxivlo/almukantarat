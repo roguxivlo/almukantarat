{
 "cells": [
  {
   "cell_type": "markdown",
   "id": "538582bf",
   "metadata": {},
   "source": [
    "# Kurs Pythona (Kucoby, Obóz dla Średnich 2025)\n",
    "\n"
   ]
  },
  {
   "cell_type": "markdown",
   "id": "929af20a",
   "metadata": {},
   "source": [
    "## Pierwszy program w Pythonie - Funkcja `print`"
   ]
  },
  {
   "cell_type": "code",
   "execution_count": 7,
   "id": "44c0857b",
   "metadata": {},
   "outputs": [
    {
     "name": "stdout",
     "output_type": "stream",
     "text": [
      "Hello World!\n"
     ]
    }
   ],
   "source": [
    "print(\"Hello World!\")"
   ]
  },
  {
   "cell_type": "markdown",
   "id": "78326207",
   "metadata": {},
   "source": [
    "Wyjaśnienie: \n",
    "Instrukcja `print` służy do wypisywania rzeczy na ekran.\n",
    "\n",
    "Rzecz wypisywana, czyli *argument funkcji*, może być zapisana w cudzysłowach podwójnych lub pojedynczych:"
   ]
  },
  {
   "cell_type": "code",
   "execution_count": null,
   "id": "171eddb0",
   "metadata": {},
   "outputs": [
    {
     "name": "stdout",
     "output_type": "stream",
     "text": [
      "Hello\n",
      "Hello\n"
     ]
    }
   ],
   "source": [
    "print(\"Hello\")\n",
    "\n",
    "print('Hello')"
   ]
  },
  {
   "cell_type": "markdown",
   "id": "387beaee",
   "metadata": {},
   "source": [
    "Każde użycie `print` powoduje wypisanie nowej linijki.\n",
    "\n",
    "Instrukcji `print` możemy użyć także z liczbami, na przykład:"
   ]
  },
  {
   "cell_type": "code",
   "execution_count": null,
   "id": "b8d1ad69",
   "metadata": {},
   "outputs": [
    {
     "name": "stdout",
     "output_type": "stream",
     "text": [
      "177\n",
      "-177\n"
     ]
    }
   ],
   "source": [
    "print(177)\n",
    "\n",
    "print(-177)"
   ]
  },
  {
   "cell_type": "markdown",
   "id": "d21b014a",
   "metadata": {},
   "source": [
    "## Działania na liczbach\n",
    "\n",
    "Każdy szanujący się język programowania pozwala na wykonywanie działań arytmetycznych na liczbach.\n",
    "\n",
    "Nieinaczej jest z Pythonem.\n",
    "\n",
    "W Pythonie liczby całkowite zapisujemy standardowo, np `5, -13`, a liczby dziesiętne - z kropką (na przykład `3.14`)"
   ]
  },
  {
   "cell_type": "code",
   "execution_count": 10,
   "id": "43ccbd2b",
   "metadata": {},
   "outputs": [
    {
     "name": "stdout",
     "output_type": "stream",
     "text": [
      "5\n",
      "5.55\n",
      "-3.14\n"
     ]
    }
   ],
   "source": [
    "print(5)\n",
    "\n",
    "print(5.55)\n",
    "\n",
    "print(-3.14)"
   ]
  },
  {
   "cell_type": "markdown",
   "id": "f0c131de",
   "metadata": {},
   "source": [
    "Na liczbach możemy wykonywać następujące działania:\n",
    "\n",
    "dodawanie: `5 + 3.14`\n",
    "\n",
    "odejmowanie: `5 - 3.14`\n",
    "\n",
    "mnożenie: `5 * 3.14`\n",
    "\n",
    "dzielenie: `5 / 3.14`\n",
    "\n",
    "Gdy działanie matematyczne wpiszemy jako argument funkcji `print`, dostaniemy wynik działania:\n"
   ]
  },
  {
   "cell_type": "code",
   "execution_count": null,
   "id": "6a424e24",
   "metadata": {},
   "outputs": [
    {
     "name": "stdout",
     "output_type": "stream",
     "text": [
      "8.14\n",
      "1.8599999999999999\n",
      "15.700000000000001\n",
      "1.592356687898089\n"
     ]
    }
   ],
   "source": [
    "print(5 + 3.14)\n",
    "\n",
    "print(5 - 3.14)\n",
    "\n",
    "print(5 * 3.14)\n",
    "\n",
    "print(5 / 3.14)"
   ]
  },
  {
   "cell_type": "markdown",
   "id": "691d9dd3",
   "metadata": {},
   "source": [
    "Zwróćcie uwagę, że wyniki mogą się *nieco* różnić od faktycznego wyniku.\n",
    "\n",
    "Obliczenia komputerowe na liczbach dziesiętnych zawsze obarczone są pewnym błędem, choć najczęściej jest on bardzo mały.\n",
    "\n",
    "Działania na liczbach całkowitych najczęściej pozbawione są tych przeszkód:"
   ]
  },
  {
   "cell_type": "code",
   "execution_count": 14,
   "id": "57a63804",
   "metadata": {},
   "outputs": [
    {
     "name": "stdout",
     "output_type": "stream",
     "text": [
      "186\n",
      "1570\n"
     ]
    }
   ],
   "source": [
    "print(500 - 314)\n",
    "print(5 * 314)"
   ]
  },
  {
   "cell_type": "markdown",
   "id": "811587e5",
   "metadata": {},
   "source": [
    "### Zadanie 1.\n",
    "Wypisz używając funkcji `print`, nazwę swojego namiotu, oraz swój wiek (rocznikowo, czyli `2025 - Twoj_rok_urodzenia`)"
   ]
  }
 ],
 "metadata": {
  "kernelspec": {
   "display_name": "Python 3",
   "language": "python",
   "name": "python3"
  },
  "language_info": {
   "codemirror_mode": {
    "name": "ipython",
    "version": 3
   },
   "file_extension": ".py",
   "mimetype": "text/x-python",
   "name": "python",
   "nbconvert_exporter": "python",
   "pygments_lexer": "ipython3",
   "version": "3.11.9"
  }
 },
 "nbformat": 4,
 "nbformat_minor": 5
}
