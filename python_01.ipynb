{
 "cells": [
  {
   "cell_type": "markdown",
   "id": "538582bf",
   "metadata": {},
   "source": [
    "# Kurs Pythona (Kucoby, Obóz dla Średnich 2025)\n",
    "\n"
   ]
  },
  {
   "cell_type": "markdown",
   "id": "929af20a",
   "metadata": {},
   "source": [
    "## Pierwszy program w Pythonie - Funkcja `print`"
   ]
  },
  {
   "cell_type": "code",
   "execution_count": 1,
   "id": "44c0857b",
   "metadata": {},
   "outputs": [
    {
     "name": "stdout",
     "output_type": "stream",
     "text": [
      "Hello World!\n"
     ]
    }
   ],
   "source": [
    "print(\"Hello World!\")"
   ]
  },
  {
   "cell_type": "markdown",
   "id": "78326207",
   "metadata": {},
   "source": [
    "Wyjaśnienie: \n",
    "Instrukcja `print` służy do wypisywania rzeczy na ekran.\n",
    "\n",
    "Rzecz wypisywana, czyli *argument funkcji*, może być zapisana w cudzysłowach podwójnych lub pojedynczych:"
   ]
  },
  {
   "cell_type": "code",
   "execution_count": 2,
   "id": "171eddb0",
   "metadata": {},
   "outputs": [
    {
     "name": "stdout",
     "output_type": "stream",
     "text": [
      "Hello\n",
      "Hello\n"
     ]
    }
   ],
   "source": [
    "print(\"Hello\")\n",
    "\n",
    "print('Hello')"
   ]
  },
  {
   "cell_type": "markdown",
   "id": "387beaee",
   "metadata": {},
   "source": [
    "Każde użycie `print` powoduje wypisanie nowej linijki.\n",
    "\n",
    "Instrukcji `print` możemy użyć także z liczbami, na przykład:"
   ]
  },
  {
   "cell_type": "code",
   "execution_count": 3,
   "id": "b8d1ad69",
   "metadata": {},
   "outputs": [
    {
     "name": "stdout",
     "output_type": "stream",
     "text": [
      "177\n",
      "-177\n"
     ]
    }
   ],
   "source": [
    "print(177)\n",
    "\n",
    "print(-177)"
   ]
  },
  {
   "cell_type": "markdown",
   "id": "ab37a90e",
   "metadata": {},
   "source": [
    "### Komentarze\n",
    "\n",
    "Programując w Pythonie, możemy pisać tekst, który będzie ignorowany przez komputer.\n",
    "\n",
    "Taki tekst nazywamy *Komentarzem*\n",
    "\n",
    "Komentarze w Pythonie piszemy, dodając znak `#` na początku linijki z komentarzem:\n",
    "\n"
   ]
  },
  {
   "cell_type": "code",
   "execution_count": 4,
   "id": "a0090ca5",
   "metadata": {},
   "outputs": [
    {
     "name": "stdout",
     "output_type": "stream",
     "text": [
      "Ten kod się wykona\n"
     ]
    }
   ],
   "source": [
    "\n",
    "# To jest komentarz, ignorowany przez komputer\n",
    "\n",
    "print(\"Ten kod się wykona\")\n",
    "\n",
    "# Mogę tworzyć\n",
    "# Długie komentarze\n",
    "# Trzyliniowe"
   ]
  },
  {
   "cell_type": "markdown",
   "id": "d21b014a",
   "metadata": {},
   "source": [
    "## Działania na liczbach\n",
    "\n",
    "Każdy szanujący się język programowania pozwala na wykonywanie działań arytmetycznych na liczbach.\n",
    "\n",
    "Nieinaczej jest z Pythonem.\n",
    "\n",
    "W Pythonie liczby całkowite zapisujemy standardowo, na przykład `5, -13`, a liczby dziesiętne - z kropką (na przykład `3.14`)"
   ]
  },
  {
   "cell_type": "code",
   "execution_count": 5,
   "id": "43ccbd2b",
   "metadata": {},
   "outputs": [
    {
     "name": "stdout",
     "output_type": "stream",
     "text": [
      "5\n",
      "5.55\n",
      "-3.14\n"
     ]
    }
   ],
   "source": [
    "print(5)\n",
    "\n",
    "print(5.55)\n",
    "\n",
    "print(-3.14)"
   ]
  },
  {
   "cell_type": "markdown",
   "id": "f0c131de",
   "metadata": {},
   "source": [
    "Na liczbach możemy wykonywać następujące działania:\n",
    "\n",
    "dodawanie: `5 + 3.14`\n",
    "\n",
    "odejmowanie: `5 - 3.14`\n",
    "\n",
    "mnożenie: `5 * 3.14`\n",
    "\n",
    "dzielenie: `5 / 3.14`\n",
    "\n",
    "potęgowanie: `5 ** 2` oznacza `5` do potęgi `2`\n",
    "\n",
    "obliczanie reszty z dzielenia: `5 % 2` oznacza resztę z dzielenia liczby `5` przez liczbę `2`\n",
    "\n",
    "Gdy działanie wpiszemy jako argument funkcji `print`, dostaniemy wynik działania:\n"
   ]
  },
  {
   "cell_type": "code",
   "execution_count": 2,
   "id": "6a424e24",
   "metadata": {},
   "outputs": [
    {
     "name": "stdout",
     "output_type": "stream",
     "text": [
      "8.14\n",
      "1.8599999999999999\n",
      "15.700000000000001\n",
      "1.592356687898089\n",
      "25\n",
      "1\n"
     ]
    }
   ],
   "source": [
    "print(5 + 3.14)\n",
    "\n",
    "print(5 - 3.14)\n",
    "\n",
    "print(5 * 3.14)\n",
    "\n",
    "print(5 / 3.14)\n",
    "\n",
    "print(5 ** 2)\n",
    "\n",
    "print(5 % 2)"
   ]
  },
  {
   "cell_type": "markdown",
   "id": "691d9dd3",
   "metadata": {},
   "source": [
    "Zwróćcie uwagę, że wyniki mogą się *nieco* różnić od faktycznego wyniku.\n",
    "\n",
    "Obliczenia komputerowe na liczbach dziesiętnych zawsze obarczone są pewnym błędem, choć najczęściej jest on bardzo mały.\n",
    "\n",
    "Działania na liczbach całkowitych najczęściej pozbawione są tych przeszkód:"
   ]
  },
  {
   "cell_type": "code",
   "execution_count": 7,
   "id": "57a63804",
   "metadata": {},
   "outputs": [
    {
     "name": "stdout",
     "output_type": "stream",
     "text": [
      "186\n",
      "1570\n"
     ]
    }
   ],
   "source": [
    "print(500 - 314)\n",
    "print(5 * 314)"
   ]
  },
  {
   "cell_type": "markdown",
   "id": "69ea628f",
   "metadata": {},
   "source": [
    "### Dzielenie całkowitoliczbowe\n",
    "Przyjrzyjmy się dokładnie dzieleniu:\n",
    "\n",
    "```\n",
    "print(5 / 2)\n",
    "```\n",
    "\n",
    "Wypisze się wynik prawdziwy, czyli 2.5 (liczba niecałkowita.)\n",
    "\n",
    "Jest jeszcze jedno dzielenie. Znaczek `//` oznacza *dzielenie całkowitoliczbowe*, które obcina prawdziwy wynik z części dziesiętnej.\n",
    "```\n",
    "print(5 // 2) # wypisze się 2\n",
    "print(6 // 2) # wypisze się 3\n",
    "```\n",
    "\n",
    "Spróbujcie!"
   ]
  },
  {
   "cell_type": "code",
   "execution_count": 13,
   "id": "5098e123",
   "metadata": {},
   "outputs": [
    {
     "name": "stdout",
     "output_type": "stream",
     "text": [
      "2.5\n",
      "2\n",
      "3\n"
     ]
    }
   ],
   "source": [
    "print(5 / 2) # wypisze się 2.5\n",
    "\n",
    "print(5 // 2) # wypisze się 2\n",
    "print(6 // 2) # wypisze się 3\n"
   ]
  },
  {
   "cell_type": "markdown",
   "id": "811587e5",
   "metadata": {},
   "source": [
    "#### Zadanie 1.\n",
    "Wypisz używając funkcji `print`, nazwę swojego namiotu, oraz swój wiek (rocznikowo, czyli `2025 - Twoj_rok_urodzenia`)"
   ]
  },
  {
   "cell_type": "markdown",
   "id": "9bee7774",
   "metadata": {},
   "source": [
    "### Kolejność działań, nawiasy\n",
    "\n",
    "Python respektuje szkolną kolejność działań arytmetycznych:"
   ]
  },
  {
   "cell_type": "code",
   "execution_count": 8,
   "id": "dbf6bcc9",
   "metadata": {},
   "outputs": [
    {
     "name": "stdout",
     "output_type": "stream",
     "text": [
      "14\n",
      "14\n"
     ]
    }
   ],
   "source": [
    "# Mnożenie jest przed dodawaniem, wynik to 14\n",
    "print(2 + 4 * 3)\n",
    "\n",
    "# Możemy też to zaznaczyć dodając nawias:\n",
    "print(2 + (4 * 3))"
   ]
  },
  {
   "cell_type": "markdown",
   "id": "80230400",
   "metadata": {},
   "source": [
    "Python respektuje kolejnosc działań wprowadzaną przez nawiasy:"
   ]
  },
  {
   "cell_type": "code",
   "execution_count": 9,
   "id": "4b7f21ee",
   "metadata": {},
   "outputs": [
    {
     "name": "stdout",
     "output_type": "stream",
     "text": [
      "18\n"
     ]
    }
   ],
   "source": [
    "# Ten nawias nadaje wyższy priorytet dodawaniu:\n",
    "print((2 + 4) * 3)"
   ]
  },
  {
   "cell_type": "markdown",
   "id": "6659f2d3",
   "metadata": {},
   "source": [
    "## Zmienne w Pythonie\n",
    "\n",
    "W Pythonie można robić dużo więcej niż wypisywanie tekstu i obliczenia.\n",
    "\n",
    "Następnym krokiem jest poznanie *Zmiennych*.\n",
    "\n",
    "*Zmienna* to takie pudełko, które zawiera pewną wartość (np. liczbę). \n",
    "\n",
    "Do tego pudełka możemy zaglądać\n",
    "(czyli sprawdzać jaką *wartość* ma zmienna), oraz podmieniać zawartość (to znaczy zmieniać *wartość* zmiennej)\n",
    "\n",
    "Zobaczmy przykład:"
   ]
  },
  {
   "cell_type": "code",
   "execution_count": 10,
   "id": "b9d01c3d",
   "metadata": {},
   "outputs": [
    {
     "name": "stdout",
     "output_type": "stream",
     "text": [
      "44\n",
      "46\n"
     ]
    }
   ],
   "source": [
    "# Tworzymy zmienną o nazwie `x`:\n",
    "x = 44\n",
    "\n",
    "# Zaglądamy do pudełka: odczytujemy wartość `x`:\n",
    "print(x)\n",
    "\n",
    "# podmieniamy zawartość pudełka: zmienna x dostaje nową wartosć:\n",
    "x = 46\n",
    "\n",
    "print(x)"
   ]
  },
  {
   "cell_type": "markdown",
   "id": "0716e5df",
   "metadata": {},
   "source": [
    "Na zmiennych liczbowych możemy wykonywać te same działania co na liczbach!\n",
    "\n",
    "Po prostu wpisujemy nazwę zmiennej zamiast wartości liczbowej (jak na matematyce)"
   ]
  },
  {
   "cell_type": "code",
   "execution_count": 11,
   "id": "0bf126a8",
   "metadata": {},
   "outputs": [
    {
     "name": "stdout",
     "output_type": "stream",
     "text": [
      "193\n",
      "125\n",
      "Pole Kola o promieniu 1:\n",
      "3.14\n"
     ]
    }
   ],
   "source": [
    "y = 17\n",
    "x = 5\n",
    "z = 3\n",
    "\n",
    "\n",
    "# Wykona się działanie: 5 ** 3 + 4 * 17\n",
    "print(x ** z + 4 * y)\n",
    "\n",
    "# zmieniamy wartość zmiennej y\n",
    "y = 0\n",
    "# Zmieni się też wynik tego samego wyrażenia\n",
    "print(x ** z + 4 * y)\n",
    "\n",
    "# Możemy mieć zmienne o wartościach rzeczywistych:\n",
    "\n",
    "pi = 3.14\n",
    "r = 1\n",
    "\n",
    "print(\"Pole Kola o promieniu 1:\")\n",
    "print(pi * r * r)"
   ]
  },
  {
   "cell_type": "markdown",
   "id": "58e94317",
   "metadata": {},
   "source": [
    "### Napisy\n",
    "\n",
    "Zmienne mogą być nie tylko liczbami.\n",
    "\n",
    "Innym rodzajem zmiennych są *Napisy* (po angielsku *string* - pasek tekstu)\n",
    "\n",
    "Napisy piszemy w cudzysłowiach, pojedynczych lub podwójnych, używamy ich tak:"
   ]
  },
  {
   "cell_type": "code",
   "execution_count": 12,
   "id": "9d9c5780",
   "metadata": {},
   "outputs": [
    {
     "name": "stdout",
     "output_type": "stream",
     "text": [
      "To jest napis:\n",
      "Ala ma kota\n"
     ]
    }
   ],
   "source": [
    "ala = \"Ala ma kota\"\n",
    "\n",
    "print(\"To jest napis:\")\n",
    "\n",
    "print(ala)"
   ]
  },
  {
   "cell_type": "markdown",
   "id": "3649c655",
   "metadata": {},
   "source": [
    "Napisy można dodawać, znak `+` oznacza doklejenie napisu na koniec:"
   ]
  },
  {
   "cell_type": "code",
   "execution_count": 13,
   "id": "85e47c13",
   "metadata": {},
   "outputs": [
    {
     "name": "stdout",
     "output_type": "stream",
     "text": [
      "Ala ma kota!\n"
     ]
    }
   ],
   "source": [
    "ala = \"Ala ma \"\n",
    "zwierze = \"kota!\"\n",
    "\n",
    "zdanie = ala + zwierze\n",
    "\n",
    "print(zdanie)"
   ]
  },
  {
   "cell_type": "markdown",
   "id": "9f5371f9",
   "metadata": {},
   "source": [
    "Napisy mogą być wieloliniowe: znak `\\n` oznacza przejście do następnej linii:   "
   ]
  },
  {
   "cell_type": "code",
   "execution_count": 14,
   "id": "7e2cde54",
   "metadata": {},
   "outputs": [
    {
     "name": "stdout",
     "output_type": "stream",
     "text": [
      "Ala\n",
      "ma kota!\n",
      "1\n",
      "2\n",
      "3\n",
      "4\n"
     ]
    }
   ],
   "source": [
    "print(\"Ala\" + \"\\n\" + \"ma kota!\")\n",
    "\n",
    "print(\"1\\n2\\n3\\n4\")"
   ]
  },
  {
   "cell_type": "markdown",
   "id": "f6b0eee3",
   "metadata": {},
   "source": [
    "### Zmienne logiczne\n",
    "\n",
    "Jest jeszcze jeden typ zmiennych w Pythonie. Są to tak zwane *zmienne logiczne*, które mogą przyjmować dwie wartości:\n",
    "`True` (prawda, często też po prostu `1`) oraz `False` (fałsz, często też po prostu `0`)\n",
    "\n",
    "Na zmiennych logicznych mamy dostępne specjalne operacje:\n",
    "\n",
    "`and` jest to logiczna koniunkcja;\n",
    "\n",
    "`or` jest to logiczna alternatywa;\n",
    "\n",
    "`not` jest to logiczna negacja;\n",
    "\n",
    "Poniżej są przykłady jak te wyrażenia działają:"
   ]
  },
  {
   "cell_type": "code",
   "execution_count": 15,
   "id": "d6d9662a",
   "metadata": {},
   "outputs": [
    {
     "name": "stdout",
     "output_type": "stream",
     "text": [
      "Logiczna koniunkcja: `and`\n",
      "False\n",
      "True\n",
      "False\n",
      "False\n",
      "\n",
      "Logiczna alternatywa: `or`\n",
      "True\n",
      "True\n",
      "False\n",
      "True\n",
      "\n",
      "Negacja: `not`:\n",
      "False\n",
      "True\n"
     ]
    }
   ],
   "source": [
    "# Koniunkcja: obie wartości muszą być True:\n",
    "print(\"Logiczna koniunkcja: `and`\")\n",
    "print(True and False) # Wypisze się: False\n",
    "print(True and True) # Wypisze się: True\n",
    "print(False and False) # Wypisze się: False\n",
    "print(False and True) # Wypisze się: False\n",
    "\n",
    "# Alternatywa: co najmniej jedna wartość ma być True:\n",
    "print(\"\\nLogiczna alternatywa: `or`\")\n",
    "print(True or True) # Wypisze się: True\n",
    "print(True or False) # Wypisze się: True \n",
    "print(False or False) # Wypisze się: False\n",
    "print(False or True) # Wypisze się: True\n",
    "\n",
    "# Negacja: Neguje wartość\n",
    "print(\"\\nNegacja: `not`:\")\n",
    "print(not True) # Wypisze się: False\n",
    "print(not False) # Wypisze się: True"
   ]
  },
  {
   "cell_type": "markdown",
   "id": "c0fa51fa",
   "metadata": {},
   "source": [
    "Operacje logiczne możemy również wykonywać na liczbach i napisach. wartość liczbowa `0` oznacza `False`, a każda inna oznacza `True`. Pusty napis `\"\"` oznacza `False`, a jakikolwiek inny oznacza `True`"
   ]
  },
  {
   "cell_type": "code",
   "execution_count": 16,
   "id": "409c9537",
   "metadata": {},
   "outputs": [
    {
     "name": "stdout",
     "output_type": "stream",
     "text": [
      "0\n",
      "2\n",
      "1\n",
      "\n",
      "Ala\n",
      "False\n",
      "True\n",
      "False\n"
     ]
    }
   ],
   "source": [
    "print(0 and 1)\n",
    "\n",
    "print(1 and 2)\n",
    "\n",
    "print (1 or 4)\n",
    "\n",
    "print(\"Ala\" and \"\") # Wypisuje się nic (pusta linia)!\n",
    "\n",
    "print(\"Ala\" or \"\") # wypisuje się Ala!\n",
    "\n",
    "print(not 5)\n",
    "\n",
    "print(not \"\")\n",
    "\n",
    "print(not \"Ala\")"
   ]
  },
  {
   "cell_type": "markdown",
   "id": "38f2d182",
   "metadata": {},
   "source": [
    "Istnieje jeszcze jeden przypadek działań na liczbach, w którym otrzymujemy wynik prawda / fałsz.\n",
    "\n",
    "Taki wynik otrzymamy *porównując* ze sobą dwie liczby. Możemy to robić np tak:"
   ]
  },
  {
   "cell_type": "code",
   "execution_count": 26,
   "id": "bae690b6",
   "metadata": {},
   "outputs": [
    {
     "name": "stdout",
     "output_type": "stream",
     "text": [
      "True\n",
      "False\n",
      "False\n"
     ]
    }
   ],
   "source": [
    "# Czy 5 jest większe od 3? Wynik True.\n",
    "print(5 > 3)\n",
    "\n",
    "# Czy 5 jest równe 3? Wynik False.\n",
    "print(5 == 3) # UWAGA: DWA ZNAKI =\n",
    "\n",
    "# Czy 5 jest mniejsze lub równe 3? Wynik False:\n",
    "print(5 <= 3)"
   ]
  },
  {
   "cell_type": "markdown",
   "id": "dcefab19",
   "metadata": {},
   "source": [
    "UWAGA\n",
    "\n",
    "Sprawdzenie, czy dwie liczby są równe zapisujemy używając DWÓCH ZNAKÓW RÓWNOŚCI: `==`"
   ]
  },
  {
   "cell_type": "markdown",
   "id": "21f4bd65",
   "metadata": {},
   "source": [
    "Poznane wyrażenia możemy łączyć na przeróżne sposoby, na przykład:\n",
    "\n",
    "Sprawdź czy suma dwóch zmiennych jest RÓŻNA od trzeciej zmiennej:\n",
    "\n",
    "`print(not (x + y == z))`"
   ]
  },
  {
   "cell_type": "markdown",
   "id": "52fe66d2",
   "metadata": {},
   "source": [
    "## Funkcja input()\n",
    "\n",
    "No dobrze, umiemy już wykonywać pewne obliczenia na różnych typach zmiennych w pythonie!\n",
    "\n",
    "Jednak znaczna większość programów w jakiś sposób przyjmuje dane wejściowe od użytkownika.\n",
    "\n",
    "W języku komputerowców, *input* oznacza dane wejściowe programu, a *output* to wszystko co program wypisuje.\n",
    "\n",
    "Aby wczytać dane od użytkownika, używamy funkcji `input()`. Wynikiem tej funkcji jest wartość wpisana przez użytkownika, którą my możemy zapisać do jakiejś zmiennej.\n",
    "\n",
    "Poniżej jest najprostszy przykład wykorzystania funckji `input()`"
   ]
  },
  {
   "cell_type": "code",
   "execution_count": null,
   "id": "d93543ce",
   "metadata": {},
   "outputs": [
    {
     "name": "stdout",
     "output_type": "stream",
     "text": [
      "Odczytano:\n",
      "nnnnnnn\n"
     ]
    }
   ],
   "source": [
    "dane = input(\"Uzytkowniku wpisz dane: \")\n",
    "\n",
    "print(\"Odczytano:\")\n",
    "print(dane)"
   ]
  },
  {
   "cell_type": "markdown",
   "id": "7f577ebd",
   "metadata": {},
   "source": [
    "Do funkcji `input()` jako argument można podać informację do wypisania użytkownikowi\n",
    "\n",
    "W ten sposób możemy sczytywać od użytkownika *napisy*\n",
    "\n",
    "#### Zadanie 2.\n",
    "Używając funkcji `print` oraz `input`, spytaj się użytkownika o imię i przywitaj się z nim.\n",
    "\n"
   ]
  },
  {
   "cell_type": "markdown",
   "id": "e2406aba",
   "metadata": {},
   "source": [
    "No dobrze, spróbujmy teraz pobrać od użytkownika jakąś liczbę, np. rok urodzenia i obliczyć wiek na tej podstawie.\n",
    "\n",
    "Poniższy kod niestety nie zadziała:"
   ]
  },
  {
   "cell_type": "code",
   "execution_count": 19,
   "id": "46ce3660",
   "metadata": {},
   "outputs": [
    {
     "ename": "TypeError",
     "evalue": "unsupported operand type(s) for -: 'int' and 'str'",
     "output_type": "error",
     "traceback": [
      "\u001b[1;31m---------------------------------------------------------------------------\u001b[0m",
      "\u001b[1;31mTypeError\u001b[0m                                 Traceback (most recent call last)",
      "Cell \u001b[1;32mIn[19], line 3\u001b[0m\n\u001b[0;32m      1\u001b[0m rok_urodzenia \u001b[38;5;241m=\u001b[39m \u001b[38;5;28minput\u001b[39m(\u001b[38;5;124m\"\u001b[39m\u001b[38;5;124mpodaj rok urodzenia: \u001b[39m\u001b[38;5;124m\"\u001b[39m)\n\u001b[1;32m----> 3\u001b[0m wiek \u001b[38;5;241m=\u001b[39m \u001b[38;5;241;43m2025\u001b[39;49m\u001b[43m \u001b[49m\u001b[38;5;241;43m-\u001b[39;49m\u001b[43m \u001b[49m\u001b[43mrok_urodzenia\u001b[49m\n\u001b[0;32m      5\u001b[0m \u001b[38;5;28mprint\u001b[39m(\u001b[38;5;124m\"\u001b[39m\u001b[38;5;124mTwoj wiek: \u001b[39m\u001b[38;5;124m\"\u001b[39m)\n\u001b[0;32m      6\u001b[0m \u001b[38;5;28mprint\u001b[39m(wiek)\n",
      "\u001b[1;31mTypeError\u001b[0m: unsupported operand type(s) for -: 'int' and 'str'"
     ]
    }
   ],
   "source": [
    "rok_urodzenia = input(\"podaj rok urodzenia: \")\n",
    "\n",
    "wiek = 2025 - rok_urodzenia\n",
    "\n",
    "print(\"Twoj wiek: \")\n",
    "print(wiek)\n"
   ]
  },
  {
   "cell_type": "markdown",
   "id": "4a182773",
   "metadata": {},
   "source": [
    "Co się dzieje?????\n",
    "\n",
    "Otóż okazuje się, że wynik funkcji `input()` zawsze domyślnie jest *napisem*. Tak naprawdę, odczytaliśmy od użytkownika napis `\"2006\"` zamiast liczby `2006`. Python nie potrafi odjąć od liczby napisu, i dlatego dostajemy błąd.\n",
    "\n",
    "Aby to naprawić, możemy *skonwertować* napis zwrócony przez `input()` na liczbę całkowitą (po angielsku to integer, a w skrócie *int*). Robimy to tak:"
   ]
  },
  {
   "cell_type": "code",
   "execution_count": 21,
   "id": "6f189494",
   "metadata": {},
   "outputs": [
    {
     "name": "stdout",
     "output_type": "stream",
     "text": [
      "Twoj wiek: \n",
      "23\n"
     ]
    }
   ],
   "source": [
    "rok_urodzenia_napis = input(\"podaj rok urodzenia: \")\n",
    "\n",
    "# tutaj konwertujemy napis na liczbe!\n",
    "rok_urodzenia_int = int(rok_urodzenia_napis)\n",
    "\n",
    "wiek = 2025 - rok_urodzenia_int\n",
    "\n",
    "print(\"Twoj wiek: \")\n",
    "print(wiek)"
   ]
  },
  {
   "cell_type": "markdown",
   "id": "df61b4e0",
   "metadata": {},
   "source": [
    "Można też krócej, o tak:"
   ]
  },
  {
   "cell_type": "code",
   "execution_count": null,
   "id": "994ba253",
   "metadata": {},
   "outputs": [
    {
     "name": "stdout",
     "output_type": "stream",
     "text": [
      "Twoj wiek: \n",
      "23\n"
     ]
    }
   ],
   "source": [
    "# Konwertujemy od razu przy wczytywaniu\n",
    "rok_urodzenia_int = int(input(\"podaj rok urodzenia: \"))\n",
    "\n",
    "wiek = 2025 - rok_urodzenia_int\n",
    "\n",
    "print(\"Twoj wiek: \")\n",
    "print(wiek)"
   ]
  },
  {
   "cell_type": "markdown",
   "id": "dfe17c09",
   "metadata": {},
   "source": [
    "W porządku, a jak wczytać więcej niż jedną liczbę?\n",
    "\n",
    "po prostu użyjemy funkcji `input()` wiele razy!"
   ]
  },
  {
   "cell_type": "code",
   "execution_count": 10,
   "id": "90d0515a",
   "metadata": {},
   "outputs": [
    {
     "name": "stdout",
     "output_type": "stream",
     "text": [
      "124\n"
     ]
    }
   ],
   "source": [
    "pierwsza = int(input())\n",
    "\n",
    "druga = int(input())\n",
    "\n",
    "print(pierwsza + druga)\n"
   ]
  },
  {
   "cell_type": "markdown",
   "id": "7b22ddcd",
   "metadata": {},
   "source": [
    "Czas na trochę zadań do przećwiczenia:\n",
    "\n",
    "#### Zadanie 3.\n",
    "Wczytaj od użytkownika liczbę całkowitą dodatnią i wypisz jej ostatnią cyfrę.\n",
    "\n",
    "#### Zadanie 4.\n",
    "Wczytaj wysokość i podstawę trójkąta i wypisz pole\n",
    "\n",
    "#### Zadanie 5.\n",
    "Wczytaj promień koła i wypisz pole, użyj `pi = 3.14`\n",
    "\n",
    "UWAGA W tym zadaniu możesz wczytać liczbę rzeczywistą zamiast całkowitej, używając konwersji\n",
    "na typ `float` zamiast `int`:\n",
    "```\n",
    "r = float(input())\n",
    "```\n",
    "\n",
    "#### Zadanie 6.\n",
    "Wczytaj liczbę i wypisz jej cyfrę dziesiątek (drugą cyfrę od prawej)\n",
    "\n",
    "#### Zadanie 7.\n",
    "Napisz program, który przelicza czas podany w sekundach na zapis uwzględniający godziny, minuty oraz\n",
    "sekundy.\n",
    "\n",
    "Wejście: Jedyny wiersz wejścia zawiera jedną liczbę całkowitą $t$ ($1 ≤ t ≤ 1 000 000$), oznaczającą czas wyrażony w sekundach.\n",
    "\n",
    "Wyjście: Twój program powinien wypisać czas $t$ w postaci $ggmmss$, gdzie $g$, $m$ i $s$ oznaczają odpowiednio liczbę godzin,\n",
    "minut i sekund. Innymi słowy, $g$ godzin, $m$ minut i $s$ sekund powinno łącznie dawać $t$ sekund.\n",
    "\n",
    "\n",
    "#### Zadanie 8.\n",
    "W tym zadaniu Twój program powinien wypisać, ile jest liczb całkowitych z przedziału od $a$ do $b$, podzielnych przez $k$.\n",
    "\n",
    "Wejście: Zawiera trzy liczby oddzielone spacjami: $a\\le b$ oraz $k$.\n",
    "Wyjście: Na wyjściu powinieneś wypisać jedną liczbę: ile jest liczb między $a$ i $b$ (włącznie) podzielnych przez $k$?\n",
    "\n",
    "Przykłady:\n",
    "\n",
    "Dla danych `3 10 2` wynik to `4`\n",
    "\n",
    "Dla danych `10 20 10` wynik to `2`"
   ]
  },
  {
   "cell_type": "markdown",
   "id": "6003d2de",
   "metadata": {},
   "source": [
    "## Instrukcja Warunkowa\n",
    "\n",
    "Umiemy już coś pobrać od użytkownika, a teraz nauczymy się jak w zależności od inputu robić różne rzeczy.\n",
    "\n",
    "Posłużą nam do tego *Instrukcje Warunkowe*.\n",
    "\n",
    "Instrukcja Warunkowa ma postać:\n",
    "\n",
    "```\n",
    "jeśli zachodzi jakiś warunek:\n",
    "    zrób to\n",
    "w przeciwnym przypadku:\n",
    "    zrób tamto\n",
    "```\n",
    "\n",
    "Dla przykładu:\n",
    "```\n",
    "jeśli liczba > 100:\n",
    "    wypisz \"DUŻA LICZBA!\"\n",
    "w przeciwnym przypadku:\n",
    "    wypisz \"mała liczba!\"\n",
    "```\n",
    "\n",
    "W Pythonie będzie to wyglądać tak:\n",
    "```\n",
    "if liczba > 100:\n",
    "    print(\"DUZA LICZBA\")\n",
    "else:\n",
    "    print(\"mala liczba\")\n",
    "```\n",
    "\n",
    "zwróć uwagę na wcięcia, one są obowiązkowe!\n",
    "Po słówkach if i else, kod powinien być wcięty o\n",
    "jeden `tab` (albo 4 spacje)\n",
    "\n",
    "Taki kod JEST ZŁY:\n",
    "```\n",
    "if liczba > 100:\n",
    "print(\"DUZA LICZBA\")\n",
    "else:\n",
    "print(\"mala liczba\")\n",
    "```\n",
    "\n",
    "\n",
    "Zobaczmy przykłady:\n",
    "\n"
   ]
  },
  {
   "cell_type": "code",
   "execution_count": null,
   "id": "c96a4d8b",
   "metadata": {},
   "outputs": [],
   "source": [
    "# Wczytaj liczbę i sprawdz czy jest ujemna czy dodatnia:\n",
    "\n",
    "liczba = int(input(\"Podaj liczbe \"))\n",
    "\n",
    "if liczba"
   ]
  },
  {
   "cell_type": "markdown",
   "id": "dda8e940",
   "metadata": {},
   "source": [
    "## Pętla while"
   ]
  },
  {
   "cell_type": "markdown",
   "id": "f6784b84",
   "metadata": {},
   "source": [
    "## Listy"
   ]
  },
  {
   "cell_type": "markdown",
   "id": "9303b790",
   "metadata": {},
   "source": [
    "## Pętla For"
   ]
  },
  {
   "cell_type": "markdown",
   "id": "e28aad0d",
   "metadata": {},
   "source": [
    "## Projekt"
   ]
  }
 ],
 "metadata": {
  "kernelspec": {
   "display_name": "Python 3",
   "language": "python",
   "name": "python3"
  },
  "language_info": {
   "codemirror_mode": {
    "name": "ipython",
    "version": 3
   },
   "file_extension": ".py",
   "mimetype": "text/x-python",
   "name": "python",
   "nbconvert_exporter": "python",
   "pygments_lexer": "ipython3",
   "version": "3.11.9"
  }
 },
 "nbformat": 4,
 "nbformat_minor": 5
}
